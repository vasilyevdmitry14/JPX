{
 "cells": [
  {
   "cell_type": "code",
   "execution_count": 1,
   "id": "c5f6ef55",
   "metadata": {},
   "outputs": [],
   "source": [
    "import pandas as pd\n",
    "import numpy as np\n",
    "from sklearn.linear_model import LinearRegression\n",
    "import seaborn as sns"
   ]
  },
  {
   "cell_type": "code",
   "execution_count": 2,
   "id": "bead5f80",
   "metadata": {},
   "outputs": [
    {
     "name": "stdout",
     "output_type": "stream",
     "text": [
      "Index(['Date', 'SecuritiesCode', 'Target', 'Mo', 'Tu', 'We', 'Th', 'Fr',\n",
      "       'DividendRatio', 'SMA50_Close_diff', 'SMA10_Close_diff', 'Volume_share',\n",
      "       'UL_Close-diff', 'LL_Close-diff', 'RSI', 'Stochastic', 'EMA_diff',\n",
      "       'BeforeDiv', 'AfterDiv', 'Day_number', 'Close_lag_1', 'Gap',\n",
      "       'Open_lag_1', 'Close_lag_2', 'Open_lag_2', 'Close_lag_3', 'Open_lag_3',\n",
      "       'Candle', 'Target_lag_2', 'Target_lag_3', 'Target_lag_4'],\n",
      "      dtype='object')\n"
     ]
    }
   ],
   "source": [
    "data = pd.read_parquet('./features_ready_220507.parquet.gzip')\n",
    "data = data.drop(['Open', 'High', 'Low', 'Close', 'Volume','AdjustmentFactor','ExpectedDividend','SupervisionFlag','CumFactor',\n",
    "                       'SMA50','SMA10','k','EMA12','EMA26','SMA14UP','SMA14DOWN','Lower_line','Upper_line',\n",
    "                       'SD10','MACD','EMA9','tot_volume','ind_volume'], axis=1)\n",
    "print(data.columns)"
   ]
  },
  {
   "cell_type": "code",
   "execution_count": 3,
   "id": "133d515a",
   "metadata": {
    "scrolled": true
   },
   "outputs": [
    {
     "name": "stdout",
     "output_type": "stream",
     "text": [
      "(2000, 31)               Date  SecuritiesCode  Target  Mo  Tu  We  Th  Fr  DividendRatio  \\\n",
      "index                                                                           \n",
      "2332531 2021-12-06            1301     0.0   1   0   0   0   0            0.0   \n",
      "2332532 2021-12-06            1332     0.0   1   0   0   0   0            0.0   \n",
      "2332533 2021-12-06            1333     0.0   1   0   0   0   0            0.0   \n",
      "2332534 2021-12-06            1375     0.0   1   0   0   0   0            0.0   \n",
      "2332535 2021-12-06            1376     0.0   1   0   0   0   0            0.0   \n",
      "...            ...             ...     ...  ..  ..  ..  ..  ..            ...   \n",
      "2334526 2021-12-06            9990     0.0   1   0   0   0   0            0.0   \n",
      "2334527 2021-12-06            9991     0.0   1   0   0   0   0            0.0   \n",
      "2334528 2021-12-06            9993     0.0   1   0   0   0   0            0.0   \n",
      "2334529 2021-12-06            9994     0.0   1   0   0   0   0            0.0   \n",
      "2334530 2021-12-06            9997     0.0   1   0   0   0   0            0.0   \n",
      "\n",
      "         SMA50_Close_diff  ...       Gap  Open_lag_1  Close_lag_2  Open_lag_2  \\\n",
      "index                      ...                                                  \n",
      "2332531         -0.018883  ...  0.000000      2983.0       2933.0      2949.0   \n",
      "2332532         -0.064109  ...  0.011966       579.0        573.0       566.0   \n",
      "2332533         -0.064333  ...  0.004241      2333.0       2303.0      2276.0   \n",
      "2332534         -0.156797  ... -0.004049      1222.0       1212.0      1220.0   \n",
      "2332535         -0.078623  ...  0.005255      1370.0       1327.0      1353.0   \n",
      "...                   ...  ...       ...         ...          ...         ...   \n",
      "2334526         -0.089014  ...  0.000000       514.0        507.0       518.0   \n",
      "2334527         -0.078013  ...  0.002519       782.0        778.0       777.0   \n",
      "2334528         -0.052588  ...  0.000000      1690.0       1650.0      1672.0   \n",
      "2334529          0.000182  ...  0.002093      2388.0       2362.0      2340.0   \n",
      "2334530         -0.102833  ...  0.008621       690.0        684.0       681.0   \n",
      "\n",
      "         Close_lag_3  Open_lag_3  Candle  Target_lag_2  Target_lag_3  \\\n",
      "index                                                                  \n",
      "2332531       2911.0      2909.0       0     -0.003689      0.016706   \n",
      "2332532        574.0       568.0      -1      0.006838      0.020942   \n",
      "2332533       2299.0      2265.0       0      0.008058      0.023882   \n",
      "2332534       1231.0      1215.0       0     -0.008907      0.018977   \n",
      "2332535       1353.0      1326.0       0      0.014264      0.003768   \n",
      "...              ...         ...     ...           ...           ...   \n",
      "2334526        522.0       520.0       0     -0.020833      0.041420   \n",
      "2334527        770.0       768.0       0     -0.011335      0.020566   \n",
      "2334528       1671.0      1676.0       0     -0.010942     -0.003030   \n",
      "2334529       2340.0      2327.0       0      0.012139      0.011431   \n",
      "2334530        685.0       661.0       0      0.014368      0.017544   \n",
      "\n",
      "         Target_lag_4  \n",
      "index                  \n",
      "2332531      0.007558  \n",
      "2332532     -0.001742  \n",
      "2332533      0.001740  \n",
      "2332534     -0.015435  \n",
      "2332535     -0.019217  \n",
      "...               ...  \n",
      "2334526     -0.028736  \n",
      "2334527      0.010390  \n",
      "2334528     -0.012567  \n",
      "2334529      0.009402  \n",
      "2334530     -0.001460  \n",
      "\n",
      "[2000 rows x 31 columns]\n"
     ]
    }
   ],
   "source": [
    "print(data[data['Date'] == '2021-12-06'].shape, data[data['Date'] == '2021-12-06'])"
   ]
  },
  {
   "cell_type": "code",
   "execution_count": 4,
   "id": "b43cb691",
   "metadata": {},
   "outputs": [
    {
     "name": "stderr",
     "output_type": "stream",
     "text": [
      "/var/folders/wp/0d8l7yys1t38lg64tnywmtqw0000gn/T/ipykernel_7659/2929529245.py:2: SettingWithCopyWarning: \n",
      "A value is trying to be set on a copy of a slice from a DataFrame\n",
      "\n",
      "See the caveats in the documentation: https://pandas.pydata.org/pandas-docs/stable/user_guide/indexing.html#returning-a-view-versus-a-copy\n",
      "  X_train.fillna(0, inplace=True)\n",
      "/var/folders/wp/0d8l7yys1t38lg64tnywmtqw0000gn/T/ipykernel_7659/2929529245.py:7: SettingWithCopyWarning: \n",
      "A value is trying to be set on a copy of a slice from a DataFrame\n",
      "\n",
      "See the caveats in the documentation: https://pandas.pydata.org/pandas-docs/stable/user_guide/indexing.html#returning-a-view-versus-a-copy\n",
      "  X_test.fillna(0, inplace = True)\n"
     ]
    }
   ],
   "source": [
    "X_train = data[-data['Date'].isin(['2021-12-06', '2021-12-07'])]\n",
    "X_train.fillna(0, inplace=True)\n",
    "y_train = X_train['Target']\n",
    "X_train = X_train.drop(['Date', 'SecuritiesCode', 'Target'], axis=1)\n",
    "\n",
    "X_test = data[data['Date'].isin(['2021-12-06'])]\n",
    "X_test.fillna(0, inplace = True)\n",
    "X_sub = X_test[['Date', 'SecuritiesCode']].reset_index()\n",
    "X_test = X_test.drop(['Date', 'SecuritiesCode', 'Target'], axis=1)\n"
   ]
  },
  {
   "cell_type": "code",
   "execution_count": 5,
   "id": "85fb953e",
   "metadata": {},
   "outputs": [
    {
     "data": {
      "text/plain": [
       "0.005798878123100426"
      ]
     },
     "execution_count": 5,
     "metadata": {},
     "output_type": "execute_result"
    }
   ],
   "source": [
    "reg = LinearRegression().fit(X_train, y_train)\n",
    "reg.score(X_train, y_train)"
   ]
  },
  {
   "cell_type": "code",
   "execution_count": 6,
   "id": "7f0b5e7b",
   "metadata": {},
   "outputs": [],
   "source": [
    "y = pd.DataFrame(reg.predict(X_test), columns = ['Predicted_Target'])"
   ]
  },
  {
   "cell_type": "code",
   "execution_count": 7,
   "id": "29070844",
   "metadata": {},
   "outputs": [],
   "source": [
    "result = pd.concat([X_sub, y], axis=1)\n",
    "result['Predicted_Rank'] = result['Predicted_Target'].rank()"
   ]
  },
  {
   "cell_type": "code",
   "execution_count": 8,
   "id": "ba3c27ca",
   "metadata": {},
   "outputs": [],
   "source": [
    "test_list = pd.read_csv('files/supplemental_files/stock_prices.csv', index_col=0, parse_dates=[1])\n",
    "test_list = test_list[test_list['Date']=='2021-12-06'][['SecuritiesCode', 'Target']]\n",
    "test_list['Real_Rank'] = test_list['Target'].rank()\n",
    "test_list.rename(columns ={'Target':'True_value'}, inplace = True)"
   ]
  },
  {
   "cell_type": "code",
   "execution_count": 9,
   "id": "0c9a496d",
   "metadata": {},
   "outputs": [
    {
     "data": {
      "text/html": [
       "<div>\n",
       "<style scoped>\n",
       "    .dataframe tbody tr th:only-of-type {\n",
       "        vertical-align: middle;\n",
       "    }\n",
       "\n",
       "    .dataframe tbody tr th {\n",
       "        vertical-align: top;\n",
       "    }\n",
       "\n",
       "    .dataframe thead th {\n",
       "        text-align: right;\n",
       "    }\n",
       "</style>\n",
       "<table border=\"1\" class=\"dataframe\">\n",
       "  <thead>\n",
       "    <tr style=\"text-align: right;\">\n",
       "      <th></th>\n",
       "      <th>index</th>\n",
       "      <th>Date</th>\n",
       "      <th>SecuritiesCode</th>\n",
       "      <th>Predicted_Target</th>\n",
       "      <th>Predicted_Rank</th>\n",
       "      <th>True_value</th>\n",
       "      <th>Real_Rank</th>\n",
       "    </tr>\n",
       "  </thead>\n",
       "  <tbody>\n",
       "    <tr>\n",
       "      <th>0</th>\n",
       "      <td>2332531</td>\n",
       "      <td>2021-12-06</td>\n",
       "      <td>1301</td>\n",
       "      <td>0.000458</td>\n",
       "      <td>1226.0</td>\n",
       "      <td>-0.003263</td>\n",
       "      <td>606.0</td>\n",
       "    </tr>\n",
       "    <tr>\n",
       "      <th>1</th>\n",
       "      <td>2332532</td>\n",
       "      <td>2021-12-06</td>\n",
       "      <td>1332</td>\n",
       "      <td>0.000505</td>\n",
       "      <td>1316.0</td>\n",
       "      <td>-0.008993</td>\n",
       "      <td>330.0</td>\n",
       "    </tr>\n",
       "    <tr>\n",
       "      <th>2</th>\n",
       "      <td>2332533</td>\n",
       "      <td>2021-12-06</td>\n",
       "      <td>1333</td>\n",
       "      <td>0.000224</td>\n",
       "      <td>794.0</td>\n",
       "      <td>-0.009963</td>\n",
       "      <td>288.0</td>\n",
       "    </tr>\n",
       "    <tr>\n",
       "      <th>3</th>\n",
       "      <td>2332534</td>\n",
       "      <td>2021-12-06</td>\n",
       "      <td>1375</td>\n",
       "      <td>0.000750</td>\n",
       "      <td>1654.0</td>\n",
       "      <td>-0.015032</td>\n",
       "      <td>156.0</td>\n",
       "    </tr>\n",
       "    <tr>\n",
       "      <th>4</th>\n",
       "      <td>2332535</td>\n",
       "      <td>2021-12-06</td>\n",
       "      <td>1376</td>\n",
       "      <td>0.000837</td>\n",
       "      <td>1720.0</td>\n",
       "      <td>0.002867</td>\n",
       "      <td>1022.0</td>\n",
       "    </tr>\n",
       "    <tr>\n",
       "      <th>...</th>\n",
       "      <td>...</td>\n",
       "      <td>...</td>\n",
       "      <td>...</td>\n",
       "      <td>...</td>\n",
       "      <td>...</td>\n",
       "      <td>...</td>\n",
       "      <td>...</td>\n",
       "    </tr>\n",
       "    <tr>\n",
       "      <th>1995</th>\n",
       "      <td>2334526</td>\n",
       "      <td>2021-12-06</td>\n",
       "      <td>9990</td>\n",
       "      <td>0.000031</td>\n",
       "      <td>462.0</td>\n",
       "      <td>0.009346</td>\n",
       "      <td>1381.0</td>\n",
       "    </tr>\n",
       "    <tr>\n",
       "      <th>1996</th>\n",
       "      <td>2334527</td>\n",
       "      <td>2021-12-06</td>\n",
       "      <td>9991</td>\n",
       "      <td>0.000680</td>\n",
       "      <td>1572.0</td>\n",
       "      <td>0.001242</td>\n",
       "      <td>904.0</td>\n",
       "    </tr>\n",
       "    <tr>\n",
       "      <th>1997</th>\n",
       "      <td>2334528</td>\n",
       "      <td>2021-12-06</td>\n",
       "      <td>9993</td>\n",
       "      <td>0.000661</td>\n",
       "      <td>1552.0</td>\n",
       "      <td>0.011728</td>\n",
       "      <td>1474.0</td>\n",
       "    </tr>\n",
       "    <tr>\n",
       "      <th>1998</th>\n",
       "      <td>2334529</td>\n",
       "      <td>2021-12-06</td>\n",
       "      <td>9994</td>\n",
       "      <td>0.000436</td>\n",
       "      <td>1181.0</td>\n",
       "      <td>-0.001230</td>\n",
       "      <td>744.0</td>\n",
       "    </tr>\n",
       "    <tr>\n",
       "      <th>1999</th>\n",
       "      <td>2334530</td>\n",
       "      <td>2021-12-06</td>\n",
       "      <td>9997</td>\n",
       "      <td>0.000690</td>\n",
       "      <td>1586.0</td>\n",
       "      <td>0.019471</td>\n",
       "      <td>1692.0</td>\n",
       "    </tr>\n",
       "  </tbody>\n",
       "</table>\n",
       "<p>2000 rows × 7 columns</p>\n",
       "</div>"
      ],
      "text/plain": [
       "        index       Date  SecuritiesCode  Predicted_Target  Predicted_Rank  \\\n",
       "0     2332531 2021-12-06            1301          0.000458          1226.0   \n",
       "1     2332532 2021-12-06            1332          0.000505          1316.0   \n",
       "2     2332533 2021-12-06            1333          0.000224           794.0   \n",
       "3     2332534 2021-12-06            1375          0.000750          1654.0   \n",
       "4     2332535 2021-12-06            1376          0.000837          1720.0   \n",
       "...       ...        ...             ...               ...             ...   \n",
       "1995  2334526 2021-12-06            9990          0.000031           462.0   \n",
       "1996  2334527 2021-12-06            9991          0.000680          1572.0   \n",
       "1997  2334528 2021-12-06            9993          0.000661          1552.0   \n",
       "1998  2334529 2021-12-06            9994          0.000436          1181.0   \n",
       "1999  2334530 2021-12-06            9997          0.000690          1586.0   \n",
       "\n",
       "      True_value  Real_Rank  \n",
       "0      -0.003263      606.0  \n",
       "1      -0.008993      330.0  \n",
       "2      -0.009963      288.0  \n",
       "3      -0.015032      156.0  \n",
       "4       0.002867     1022.0  \n",
       "...          ...        ...  \n",
       "1995    0.009346     1381.0  \n",
       "1996    0.001242      904.0  \n",
       "1997    0.011728     1474.0  \n",
       "1998   -0.001230      744.0  \n",
       "1999    0.019471     1692.0  \n",
       "\n",
       "[2000 rows x 7 columns]"
      ]
     },
     "execution_count": 9,
     "metadata": {},
     "output_type": "execute_result"
    }
   ],
   "source": [
    "score_calc = result.merge(test_list, how='left', on='SecuritiesCode')\n",
    "score_calc"
   ]
  },
  {
   "cell_type": "code",
   "execution_count": 10,
   "id": "8fb604db",
   "metadata": {},
   "outputs": [],
   "source": [
    "def top_calc(row):\n",
    "    pred_rank = row['Predicted_Rank']\n",
    "    if pred_rank < 200:\n",
    "        return (2- pred_rank / 200) * row['Predicted_Target'] / 1.5\n",
    "def bot_calc(row):\n",
    "    pred_rank = row['Predicted_Rank']\n",
    "    if pred_rank >=1800:\n",
    "        return (2- np.abs(pred_rank - 1999) / 200) * row['Predicted_Target'] / 1.5\n",
    "\n",
    "score_calc['Top_result'] = score_calc.apply(top_calc, axis=1)\n",
    "score_calc['Bot_result'] = score_calc.apply(bot_calc, axis=1)\n",
    "\n",
    "sharpe = score_calc['Top_result'].sum() - score_calc['Bot_result'].sum()"
   ]
  },
  {
   "cell_type": "code",
   "execution_count": 11,
   "id": "87088290",
   "metadata": {},
   "outputs": [
    {
     "data": {
      "text/plain": [
       "-0.4833767916782674"
      ]
     },
     "execution_count": 11,
     "metadata": {},
     "output_type": "execute_result"
    }
   ],
   "source": [
    "sharpe"
   ]
  },
  {
   "cell_type": "code",
   "execution_count": null,
   "id": "eadca22c",
   "metadata": {},
   "outputs": [],
   "source": []
  }
 ],
 "metadata": {
  "kernelspec": {
   "display_name": "Python [conda env:JPX]",
   "language": "python",
   "name": "conda-env-JPX-py"
  },
  "language_info": {
   "codemirror_mode": {
    "name": "ipython",
    "version": 3
   },
   "file_extension": ".py",
   "mimetype": "text/x-python",
   "name": "python",
   "nbconvert_exporter": "python",
   "pygments_lexer": "ipython3",
   "version": "3.9.12"
  }
 },
 "nbformat": 4,
 "nbformat_minor": 5
}
