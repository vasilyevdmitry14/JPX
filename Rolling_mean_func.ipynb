{
 "cells": [
  {
   "cell_type": "code",
   "execution_count": 1,
   "id": "d59b9f9a",
   "metadata": {},
   "outputs": [],
   "source": [
    "import pandas as pd\n",
    "import numpy as np"
   ]
  },
  {
   "cell_type": "code",
   "execution_count": 31,
   "id": "8133c084",
   "metadata": {},
   "outputs": [],
   "source": [
    "def rolling_feature(df, window=50, op='mean'):\n",
    "#input: a stock_prices-like df, the window param for rolling and type of aggregation\n",
    "#output: df with a merged column of the needed rolling feature\n",
    "    if op == 'mean':\n",
    "        sma = df.set_index('Date').groupby(\n",
    "            ['SecuritiesCode'])['Close'].rolling(\n",
    "            window=window,min_periods=1).mean()\n",
    "        sma.name = 'Sliding_mean_' + str(window)\n",
    "        result = df.merge(sma, how='left', left_on=['SecuritiesCode','Date'], right_index=True)\n",
    "        return result\n",
    "    elif op == 'median':\n",
    "        sma = df.set_index('Date').groupby(\n",
    "            ['SecuritiesCode'])['Close'].rolling(\n",
    "            window=window,min_periods=1).apply(np.median, raw=True, engine='numba')\n",
    "        sma.name = 'Sliding_median_' + str(window)\n",
    "        result = df.merge(sma, how='left', left_on=['SecuritiesCode','Date'], right_index=True)\n",
    "        return result\n",
    "    else:\n",
    "        print('Invalid input')"
   ]
  }
 ],
 "metadata": {
  "kernelspec": {
   "display_name": "Python 3",
   "language": "python",
   "name": "python3"
  },
  "language_info": {
   "codemirror_mode": {
    "name": "ipython",
    "version": 3
   },
   "file_extension": ".py",
   "mimetype": "text/x-python",
   "name": "python",
   "nbconvert_exporter": "python",
   "pygments_lexer": "ipython3",
   "version": "3.8.8"
  }
 },
 "nbformat": 4,
 "nbformat_minor": 5
}
