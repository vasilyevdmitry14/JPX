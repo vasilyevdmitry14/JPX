{
 "cells": [
  {
   "cell_type": "code",
   "execution_count": 1,
   "id": "6a209704",
   "metadata": {},
   "outputs": [],
   "source": [
    "import pandas as pd\n",
    "import numpy as np\n",
    "import matplotlib.pyplot as plt\n",
    "import re\n",
    "import fileinput, glob, os\n",
    "import datetime\n",
    "import missingno as msno\n",
    "import seaborn as sns"
   ]
  },
  {
   "cell_type": "code",
   "execution_count": 73,
   "id": "5623ec5a",
   "metadata": {},
   "outputs": [
    {
     "name": "stdout",
     "output_type": "stream",
     "text": [
      "<class 'pandas.core.frame.DataFrame'>\n",
      "Int64Index: 2000 entries, 1301 to 9997\n",
      "Data columns (total 15 columns):\n",
      " #   Column                  Non-Null Count  Dtype         \n",
      "---  ------                  --------------  -----         \n",
      " 0   EffectiveDate           2000 non-null   datetime64[ns]\n",
      " 1   Name                    2000 non-null   object        \n",
      " 2   Section/Products        2000 non-null   object        \n",
      " 3   NewMarketSegment        2000 non-null   object        \n",
      " 4   33SectorCode            2000 non-null   object        \n",
      " 5   33SectorName            2000 non-null   object        \n",
      " 6   17SectorCode            2000 non-null   object        \n",
      " 7   17SectorName            2000 non-null   object        \n",
      " 8   NewIndexSeriesSizeCode  2000 non-null   object        \n",
      " 9   NewIndexSeriesSize      2000 non-null   object        \n",
      " 10  TradeDate               2000 non-null   datetime64[ns]\n",
      " 11  Close                   2000 non-null   float64       \n",
      " 12  IssuedShares            2000 non-null   float64       \n",
      " 13  MarketCapitalization    2000 non-null   float64       \n",
      " 14  Universe0               2000 non-null   bool          \n",
      "dtypes: bool(1), datetime64[ns](2), float64(3), object(9)\n",
      "memory usage: 236.3+ KB\n"
     ]
    }
   ],
   "source": [
    "#Import from stock_list.csv, filter by Universe=True and parse columns with dates:\n",
    "stock_list = pd.read_csv('files/stock_list.csv', index_col=0, parse_dates=[1])\n",
    "stock_list_incl = stock_list[stock_list.Universe0 == True]\n",
    "stock_list_incl.TradeDate = pd.to_datetime(stock_list_incl.TradeDate, format='%Y%m%d')\n",
    "stock_list_incl.info()"
   ]
  },
  {
   "cell_type": "code",
   "execution_count": 90,
   "id": "16b4a87c",
   "metadata": {},
   "outputs": [],
   "source": [
    "#Import from stock_prices.csv and parse columns with dates:\n",
    "stock_prices = pd.read_csv('files/train_files/stock_prices.csv', index_col=0, parse_dates=[1])"
   ]
  },
  {
   "cell_type": "code",
   "execution_count": 111,
   "id": "cc904d21",
   "metadata": {},
   "outputs": [
    {
     "name": "stdout",
     "output_type": "stream",
     "text": [
      "<class 'pandas.core.frame.DataFrame'>\n",
      "Index: 2332531 entries, 20170104_1301 to 20211203_9997\n",
      "Data columns (total 11 columns):\n",
      " #   Column            Dtype         \n",
      "---  ------            -----         \n",
      " 0   Date              datetime64[ns]\n",
      " 1   SecuritiesCode    int64         \n",
      " 2   Open              float64       \n",
      " 3   High              float64       \n",
      " 4   Low               float64       \n",
      " 5   Close             float64       \n",
      " 6   Volume            int64         \n",
      " 7   AdjustmentFactor  float64       \n",
      " 8   ExpectedDividend  float64       \n",
      " 9   SupervisionFlag   bool          \n",
      " 10  Target            float64       \n",
      "dtypes: bool(1), datetime64[ns](1), float64(7), int64(2)\n",
      "memory usage: 198.0+ MB\n"
     ]
    }
   ],
   "source": [
    "stock_prices.info()"
   ]
  },
  {
   "cell_type": "code",
   "execution_count": 108,
   "id": "1890d664",
   "metadata": {},
   "outputs": [],
   "source": [
    "#Import from options.csv and parse columns with dates:\n",
    "options = pd.read_csv('files/train_files/options.csv', index_col=0, parse_dates=[1],\n",
    "                      converters={7:str,8:str,9:str,10:str})"
   ]
  },
  {
   "cell_type": "code",
   "execution_count": 109,
   "id": "7d0a81e3",
   "metadata": {},
   "outputs": [],
   "source": [
    "#Correction of data types in some columns\n",
    "options.LastTradingDay = pd.to_datetime(options.LastTradingDay, format='%Y%m%d')\n",
    "options.SpecialQuotationDay = pd.to_datetime(options.SpecialQuotationDay, format='%Y%m%d')\n",
    "options.NightSessionOpen = options.NightSessionOpen.str.replace('-','0')\n",
    "options.NightSessionOpen = options.NightSessionOpen.astype('float')\n",
    "options.NightSessionHigh = options.NightSessionHigh.str.replace('-','0')\n",
    "options.NightSessionHigh = options.NightSessionHigh.astype('float')\n",
    "options.NightSessionLow = options.NightSessionLow.str.replace('-','0')\n",
    "options.NightSessionLow = options.NightSessionLow.astype('float')\n",
    "options.NightSessionClose = options.NightSessionClose.str.replace('-','0')\n",
    "options.NightSessionClose = options.NightSessionClose.astype('float')"
   ]
  },
  {
   "cell_type": "code",
   "execution_count": 110,
   "id": "3ef0a3ca",
   "metadata": {},
   "outputs": [
    {
     "name": "stdout",
     "output_type": "stream",
     "text": [
      "<class 'pandas.core.frame.DataFrame'>\n",
      "Index: 3567694 entries, 20170104_132010018 to 20211203_199248018\n",
      "Data columns (total 30 columns):\n",
      " #   Column               Dtype         \n",
      "---  ------               -----         \n",
      " 0   Date                 datetime64[ns]\n",
      " 1   OptionsCode          int64         \n",
      " 2   WholeDayOpen         float64       \n",
      " 3   WholeDayHigh         float64       \n",
      " 4   WholeDayLow          float64       \n",
      " 5   WholeDayClose        float64       \n",
      " 6   NightSessionOpen     float64       \n",
      " 7   NightSessionHigh     float64       \n",
      " 8   NightSessionLow      float64       \n",
      " 9   NightSessionClose    float64       \n",
      " 10  DaySessionOpen       float64       \n",
      " 11  DaySessionHigh       float64       \n",
      " 12  DaySessionLow        float64       \n",
      " 13  DaySessionClose      float64       \n",
      " 14  TradingVolume        int64         \n",
      " 15  OpenInterest         int64         \n",
      " 16  TradingValue         int64         \n",
      " 17  ContractMonth        int64         \n",
      " 18  StrikePrice          float64       \n",
      " 19  WholeDayVolume       int64         \n",
      " 20  Putcall              int64         \n",
      " 21  LastTradingDay       datetime64[ns]\n",
      " 22  SpecialQuotationDay  datetime64[ns]\n",
      " 23  SettlementPrice      float64       \n",
      " 24  TheoreticalPrice     float64       \n",
      " 25  BaseVolatility       float64       \n",
      " 26  ImpliedVolatility    float64       \n",
      " 27  InterestRate         float64       \n",
      " 28  DividendRate         float64       \n",
      " 29  Dividend             float64       \n",
      "dtypes: datetime64[ns](3), float64(20), int64(7)\n",
      "memory usage: 843.8+ MB\n"
     ]
    }
   ],
   "source": [
    "options.info()"
   ]
  },
  {
   "cell_type": "code",
   "execution_count": 126,
   "id": "925e7ad7",
   "metadata": {},
   "outputs": [],
   "source": [
    "#Import from trades.csv, drop NaNs, and parse columns with dates:\n",
    "trades = pd.read_csv('files/train_files/trades.csv', parse_dates=[0,1,2])\n",
    "trades_full = trades.dropna()"
   ]
  },
  {
   "cell_type": "code",
   "execution_count": 127,
   "id": "b1143cf9",
   "metadata": {},
   "outputs": [
    {
     "name": "stdout",
     "output_type": "stream",
     "text": [
      "<class 'pandas.core.frame.DataFrame'>\n",
      "Int64Index: 765 entries, 6 to 1710\n",
      "Data columns (total 56 columns):\n",
      " #   Column                               Non-Null Count  Dtype         \n",
      "---  ------                               --------------  -----         \n",
      " 0   Date                                 765 non-null    datetime64[ns]\n",
      " 1   StartDate                            765 non-null    datetime64[ns]\n",
      " 2   EndDate                              765 non-null    datetime64[ns]\n",
      " 3   Section                              765 non-null    object        \n",
      " 4   TotalSales                           765 non-null    float64       \n",
      " 5   TotalPurchases                       765 non-null    float64       \n",
      " 6   TotalTotal                           765 non-null    float64       \n",
      " 7   TotalBalance                         765 non-null    float64       \n",
      " 8   ProprietarySales                     765 non-null    float64       \n",
      " 9   ProprietaryPurchases                 765 non-null    float64       \n",
      " 10  ProprietaryTotal                     765 non-null    float64       \n",
      " 11  ProprietaryBalance                   765 non-null    float64       \n",
      " 12  BrokerageSales                       765 non-null    float64       \n",
      " 13  BrokeragePurchases                   765 non-null    float64       \n",
      " 14  BrokerageTotal                       765 non-null    float64       \n",
      " 15  BrokerageBalance                     765 non-null    float64       \n",
      " 16  IndividualsSales                     765 non-null    float64       \n",
      " 17  IndividualsPurchases                 765 non-null    float64       \n",
      " 18  IndividualsTotal                     765 non-null    float64       \n",
      " 19  IndividualsBalance                   765 non-null    float64       \n",
      " 20  ForeignersSales                      765 non-null    float64       \n",
      " 21  ForeignersPurchases                  765 non-null    float64       \n",
      " 22  ForeignersTotal                      765 non-null    float64       \n",
      " 23  ForeignersBalance                    765 non-null    float64       \n",
      " 24  SecuritiesCosSales                   765 non-null    float64       \n",
      " 25  SecuritiesCosPurchases               765 non-null    float64       \n",
      " 26  SecuritiesCosTotal                   765 non-null    float64       \n",
      " 27  SecuritiesCosBalance                 765 non-null    float64       \n",
      " 28  InvestmentTrustsSales                765 non-null    float64       \n",
      " 29  InvestmentTrustsPurchases            765 non-null    float64       \n",
      " 30  InvestmentTrustsTotal                765 non-null    float64       \n",
      " 31  InvestmentTrustsBalance              765 non-null    float64       \n",
      " 32  BusinessCosSales                     765 non-null    float64       \n",
      " 33  BusinessCosPurchases                 765 non-null    float64       \n",
      " 34  BusinessCosTotal                     765 non-null    float64       \n",
      " 35  BusinessCosBalance                   765 non-null    float64       \n",
      " 36  OtherInstitutionsSales               765 non-null    float64       \n",
      " 37  OtherInstitutionsPurchases           765 non-null    float64       \n",
      " 38  OtherInstitutionsTotal               765 non-null    float64       \n",
      " 39  OtherInstitutionsBalance             765 non-null    float64       \n",
      " 40  InsuranceCosSales                    765 non-null    float64       \n",
      " 41  InsuranceCosPurchases                765 non-null    float64       \n",
      " 42  InsuranceCosTotal                    765 non-null    float64       \n",
      " 43  InsuranceCosBalance                  765 non-null    float64       \n",
      " 44  CityBKsRegionalBKsEtcSales           765 non-null    float64       \n",
      " 45  CityBKsRegionalBKsEtcPurchase        765 non-null    float64       \n",
      " 46  CityBKsRegionalBKsEtcTotal           765 non-null    float64       \n",
      " 47  CityBKsRegionalBKsEtcBalance         765 non-null    float64       \n",
      " 48  TrustBanksSales                      765 non-null    float64       \n",
      " 49  TrustBanksPurchases                  765 non-null    float64       \n",
      " 50  TrustBanksTotal                      765 non-null    float64       \n",
      " 51  TrustBanksBalance                    765 non-null    float64       \n",
      " 52  OtherFinancialInstitutionsSales      765 non-null    float64       \n",
      " 53  OtherFinancialInstitutionsPurchases  765 non-null    float64       \n",
      " 54  OtherFinancialInstitutionsTotal      765 non-null    float64       \n",
      " 55  OtherFinancialInstitutionsBalance    765 non-null    float64       \n",
      "dtypes: datetime64[ns](3), float64(52), object(1)\n",
      "memory usage: 340.7+ KB\n"
     ]
    }
   ],
   "source": [
    "trades_full.info()"
   ]
  },
  {
   "cell_type": "code",
   "execution_count": 150,
   "id": "adb305e1",
   "metadata": {},
   "outputs": [],
   "source": [
    "#Import from financials.csv and parse dates:\n",
    "financials = pd.read_csv('files/train_files/financials.csv', index_col=0, parse_dates=[2,4,8,10,11],\n",
    "                        converters={14:str,15:str,16:str,17:str,18:str,19:str,42:str,44:str})"
   ]
  },
  {
   "cell_type": "code",
   "execution_count": 149,
   "id": "d121302f",
   "metadata": {},
   "outputs": [
    {
     "name": "stdout",
     "output_type": "stream",
     "text": [
      "<class 'pandas.core.frame.DataFrame'>\n",
      "Float64Index: 92956 entries, 20161207453651.0 to 20211203446277.0\n",
      "Data columns (total 44 columns):\n",
      " #   Column                                                                        Non-Null Count  Dtype         \n",
      "---  ------                                                                        --------------  -----         \n",
      " 0   DateCode                                                                      92954 non-null  object        \n",
      " 1   Date                                                                          92956 non-null  datetime64[ns]\n",
      " 2   SecuritiesCode                                                                92954 non-null  float64       \n",
      " 3   DisclosedDate                                                                 92954 non-null  datetime64[ns]\n",
      " 4   DisclosedTime                                                                 92954 non-null  object        \n",
      " 5   DisclosedUnixTime                                                             92954 non-null  float64       \n",
      " 6   TypeOfDocument                                                                92954 non-null  object        \n",
      " 7   CurrentPeriodEndDate                                                          92954 non-null  datetime64[ns]\n",
      " 8   TypeOfCurrentPeriod                                                           92954 non-null  object        \n",
      " 9   CurrentFiscalYearStartDate                                                    92954 non-null  datetime64[ns]\n",
      " 10  CurrentFiscalYearEndDate                                                      92954 non-null  datetime64[ns]\n",
      " 11  NetSales                                                                      75448 non-null  object        \n",
      " 12  OperatingProfit                                                               73446 non-null  object        \n",
      " 13  OrdinaryProfit                                                                92956 non-null  object        \n",
      " 14  Profit                                                                        92956 non-null  object        \n",
      " 15  EarningsPerShare                                                              92956 non-null  object        \n",
      " 16  TotalAssets                                                                   92956 non-null  object        \n",
      " 17  Equity                                                                        92956 non-null  object        \n",
      " 18  EquityToAssetRatio                                                            92956 non-null  object        \n",
      " 19  BookValuePerShare                                                             35773 non-null  object        \n",
      " 20  ResultDividendPerShare1stQuarter                                              74380 non-null  object        \n",
      " 21  ResultDividendPerShare2ndQuarter                                              55940 non-null  object        \n",
      " 22  ResultDividendPerShare3rdQuarter                                              37677 non-null  object        \n",
      " 23  ResultDividendPerShareFiscalYearEnd                                           19416 non-null  object        \n",
      " 24  ResultDividendPerShareAnnual                                                  19415 non-null  object        \n",
      " 25  ForecastDividendPerShare1stQuarter                                            19241 non-null  object        \n",
      " 26  ForecastDividendPerShare2ndQuarter                                            42619 non-null  object        \n",
      " 27  ForecastDividendPerShare3rdQuarter                                            60807 non-null  object        \n",
      " 28  ForecastDividendPerShareFiscalYearEnd                                         79021 non-null  object        \n",
      " 29  ForecastDividendPerShareAnnual                                                79022 non-null  object        \n",
      " 30  ForecastNetSales                                                              82842 non-null  object        \n",
      " 31  ForecastOperatingProfit                                                       81083 non-null  object        \n",
      " 32  ForecastOrdinaryProfit                                                        82718 non-null  object        \n",
      " 33  ForecastProfit                                                                83856 non-null  object        \n",
      " 34  ForecastEarningsPerShare                                                      82842 non-null  object        \n",
      " 35  ApplyingOfSpecificAccountingOfTheQuarterlyFinancialStatements                 7249 non-null   object        \n",
      " 36  MaterialChangesInSubsidiaries                                                 64504 non-null  object        \n",
      " 37  ChangesBasedOnRevisionsOfAccountingStandard                                   74895 non-null  object        \n",
      " 38  ChangesOtherThanOnesBasedOnRevisionsOfAccountingStandard                      74895 non-null  object        \n",
      " 39  ChangesInAccountingEstimates                                                  74126 non-null  object        \n",
      " 40  RetrospectiveRestatement                                                      70396 non-null  object        \n",
      " 41  NumberOfIssuedAndOutstandingSharesAtTheEndOfFiscalYearIncludingTreasuryStock  92956 non-null  object        \n",
      " 42  NumberOfTreasuryStockAtTheEndOfFiscalYear                                     74918 non-null  object        \n",
      " 43  AverageNumberOfShares                                                         92956 non-null  object        \n",
      "dtypes: datetime64[ns](5), float64(2), object(37)\n",
      "memory usage: 31.9+ MB\n"
     ]
    }
   ],
   "source": [
    "financials.info()"
   ]
  },
  {
   "cell_type": "code",
   "execution_count": null,
   "id": "09970feb",
   "metadata": {},
   "outputs": [],
   "source": []
  }
 ],
 "metadata": {
  "kernelspec": {
   "display_name": "Python 3 (ipykernel)",
   "language": "python",
   "name": "python3"
  },
  "language_info": {
   "codemirror_mode": {
    "name": "ipython",
    "version": 3
   },
   "file_extension": ".py",
   "mimetype": "text/x-python",
   "name": "python",
   "nbconvert_exporter": "python",
   "pygments_lexer": "ipython3",
   "version": "3.7.6"
  }
 },
 "nbformat": 4,
 "nbformat_minor": 5
}
