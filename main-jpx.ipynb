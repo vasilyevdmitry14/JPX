{
 "cells": [
  {
   "cell_type": "code",
   "execution_count": 1,
   "id": "58840501",
   "metadata": {
    "execution": {
     "iopub.execute_input": "2022-07-05T19:51:34.587966Z",
     "iopub.status.busy": "2022-07-05T19:51:34.586769Z",
     "iopub.status.idle": "2022-07-05T19:51:36.783494Z",
     "shell.execute_reply": "2022-07-05T19:51:36.781709Z"
    },
    "papermill": {
     "duration": 2.211702,
     "end_time": "2022-07-05T19:51:36.786012",
     "exception": false,
     "start_time": "2022-07-05T19:51:34.574310",
     "status": "completed"
    },
    "tags": []
   },
   "outputs": [
    {
     "name": "stdout",
     "output_type": "stream",
     "text": [
      "CPU times: user 1.56 s, sys: 284 ms, total: 1.84 s\n",
      "Wall time: 18.2 s\n"
     ]
    }
   ],
   "source": [
    "import pandas as pd\n",
    "import numpy as np\n",
    "import matplotlib.pyplot as plt\n",
    "import missingno as msno\n",
    "import seaborn as sns\n",
    "#import jpx_tokyo_market_prediction\n",
    "import lightgbm as lgb"
   ]
  },
  {
   "cell_type": "code",
   "execution_count": null,
   "id": "dbd8f5d3",
   "metadata": {},
   "outputs": [],
   "source": [
    "TRAIN_DATA_PATH = '/Users/bearmac/Projects/Kaggle/JPX_Tokyo_Exchange_Prediction/data/train_files'"
   ]
  },
  {
   "cell_type": "code",
   "execution_count": null,
   "id": "780128de",
   "metadata": {},
   "outputs": [],
   "source": [
    "def get_training_data(path=)"
   ]
  },
  {
   "cell_type": "code",
   "execution_count": 2,
   "id": "2d0e2354",
   "metadata": {
    "execution": {
     "iopub.execute_input": "2022-07-05T19:51:36.808437Z",
     "iopub.status.busy": "2022-07-05T19:51:36.807617Z",
     "iopub.status.idle": "2022-07-05T19:51:44.491953Z",
     "shell.execute_reply": "2022-07-05T19:51:44.490780Z"
    },
    "papermill": {
     "duration": 7.697733,
     "end_time": "2022-07-05T19:51:44.494230",
     "exception": false,
     "start_time": "2022-07-05T19:51:36.796497",
     "status": "completed"
    },
    "tags": []
   },
   "outputs": [
    {
     "name": "stdout",
     "output_type": "stream",
     "text": [
      "CPU times: user 5.46 s, sys: 545 ms, total: 6 s\n",
      "Wall time: 7.68 s\n"
     ]
    }
   ],
   "source": [
    "%%time\n",
    "#Import from stock_prices.csv and parse columns with dates:\n",
    "stock_prices = pd.read_csv('../input/jpx-tokyo-stock-exchange-prediction/train_files/stock_prices.csv',\n",
    "                           index_col=0, parse_dates=[1])"
   ]
  },
  {
   "cell_type": "code",
   "execution_count": 3,
   "id": "ed7a2573",
   "metadata": {
    "execution": {
     "iopub.execute_input": "2022-07-05T19:51:44.516859Z",
     "iopub.status.busy": "2022-07-05T19:51:44.515765Z",
     "iopub.status.idle": "2022-07-05T19:51:44.639108Z",
     "shell.execute_reply": "2022-07-05T19:51:44.638146Z"
    },
    "papermill": {
     "duration": 0.136876,
     "end_time": "2022-07-05T19:51:44.641170",
     "exception": false,
     "start_time": "2022-07-05T19:51:44.504294",
     "status": "completed"
    },
    "tags": []
   },
   "outputs": [
    {
     "data": {
      "text/html": [
       "<div>\n",
       "<style scoped>\n",
       "    .dataframe tbody tr th:only-of-type {\n",
       "        vertical-align: middle;\n",
       "    }\n",
       "\n",
       "    .dataframe tbody tr th {\n",
       "        vertical-align: top;\n",
       "    }\n",
       "\n",
       "    .dataframe thead th {\n",
       "        text-align: right;\n",
       "    }\n",
       "</style>\n",
       "<table border=\"1\" class=\"dataframe\">\n",
       "  <thead>\n",
       "    <tr style=\"text-align: right;\">\n",
       "      <th></th>\n",
       "      <th>Date</th>\n",
       "      <th>SecuritiesCode</th>\n",
       "      <th>Open</th>\n",
       "      <th>High</th>\n",
       "      <th>Low</th>\n",
       "      <th>Close</th>\n",
       "      <th>Volume</th>\n",
       "      <th>AdjustmentFactor</th>\n",
       "      <th>ExpectedDividend</th>\n",
       "      <th>SupervisionFlag</th>\n",
       "      <th>Target</th>\n",
       "    </tr>\n",
       "    <tr>\n",
       "      <th>RowId</th>\n",
       "      <th></th>\n",
       "      <th></th>\n",
       "      <th></th>\n",
       "      <th></th>\n",
       "      <th></th>\n",
       "      <th></th>\n",
       "      <th></th>\n",
       "      <th></th>\n",
       "      <th></th>\n",
       "      <th></th>\n",
       "      <th></th>\n",
       "    </tr>\n",
       "  </thead>\n",
       "  <tbody>\n",
       "    <tr>\n",
       "      <th>20170802_6035</th>\n",
       "      <td>2017-08-02</td>\n",
       "      <td>6035</td>\n",
       "      <td>1320.0</td>\n",
       "      <td>1396.0</td>\n",
       "      <td>1320.0</td>\n",
       "      <td>1378.0</td>\n",
       "      <td>29700</td>\n",
       "      <td>1.0</td>\n",
       "      <td>NaN</td>\n",
       "      <td>False</td>\n",
       "      <td>0.059463</td>\n",
       "    </tr>\n",
       "    <tr>\n",
       "      <th>20170411_4956</th>\n",
       "      <td>2017-04-11</td>\n",
       "      <td>4956</td>\n",
       "      <td>1318.0</td>\n",
       "      <td>1325.0</td>\n",
       "      <td>1316.0</td>\n",
       "      <td>1317.0</td>\n",
       "      <td>38700</td>\n",
       "      <td>1.0</td>\n",
       "      <td>NaN</td>\n",
       "      <td>False</td>\n",
       "      <td>-0.006140</td>\n",
       "    </tr>\n",
       "    <tr>\n",
       "      <th>20180410_4666</th>\n",
       "      <td>2018-04-10</td>\n",
       "      <td>4666</td>\n",
       "      <td>2985.0</td>\n",
       "      <td>2998.0</td>\n",
       "      <td>2942.0</td>\n",
       "      <td>2945.0</td>\n",
       "      <td>869600</td>\n",
       "      <td>1.0</td>\n",
       "      <td>NaN</td>\n",
       "      <td>False</td>\n",
       "      <td>0.004808</td>\n",
       "    </tr>\n",
       "    <tr>\n",
       "      <th>20210616_5707</th>\n",
       "      <td>2021-06-16</td>\n",
       "      <td>5707</td>\n",
       "      <td>1967.0</td>\n",
       "      <td>1985.0</td>\n",
       "      <td>1931.0</td>\n",
       "      <td>1943.0</td>\n",
       "      <td>246100</td>\n",
       "      <td>1.0</td>\n",
       "      <td>NaN</td>\n",
       "      <td>False</td>\n",
       "      <td>-0.032055</td>\n",
       "    </tr>\n",
       "    <tr>\n",
       "      <th>20170517_8362</th>\n",
       "      <td>2017-05-17</td>\n",
       "      <td>8362</td>\n",
       "      <td>288.0</td>\n",
       "      <td>289.0</td>\n",
       "      <td>285.0</td>\n",
       "      <td>288.0</td>\n",
       "      <td>146000</td>\n",
       "      <td>1.0</td>\n",
       "      <td>NaN</td>\n",
       "      <td>False</td>\n",
       "      <td>0.003521</td>\n",
       "    </tr>\n",
       "  </tbody>\n",
       "</table>\n",
       "</div>"
      ],
      "text/plain": [
       "                    Date  SecuritiesCode    Open    High     Low   Close  \\\n",
       "RowId                                                                      \n",
       "20170802_6035 2017-08-02            6035  1320.0  1396.0  1320.0  1378.0   \n",
       "20170411_4956 2017-04-11            4956  1318.0  1325.0  1316.0  1317.0   \n",
       "20180410_4666 2018-04-10            4666  2985.0  2998.0  2942.0  2945.0   \n",
       "20210616_5707 2021-06-16            5707  1967.0  1985.0  1931.0  1943.0   \n",
       "20170517_8362 2017-05-17            8362   288.0   289.0   285.0   288.0   \n",
       "\n",
       "               Volume  AdjustmentFactor  ExpectedDividend  SupervisionFlag  \\\n",
       "RowId                                                                        \n",
       "20170802_6035   29700               1.0               NaN            False   \n",
       "20170411_4956   38700               1.0               NaN            False   \n",
       "20180410_4666  869600               1.0               NaN            False   \n",
       "20210616_5707  246100               1.0               NaN            False   \n",
       "20170517_8362  146000               1.0               NaN            False   \n",
       "\n",
       "                 Target  \n",
       "RowId                    \n",
       "20170802_6035  0.059463  \n",
       "20170411_4956 -0.006140  \n",
       "20180410_4666  0.004808  \n",
       "20210616_5707 -0.032055  \n",
       "20170517_8362  0.003521  "
      ]
     },
     "execution_count": 3,
     "metadata": {},
     "output_type": "execute_result"
    }
   ],
   "source": [
    "stock_prices.sample(5)"
   ]
  },
  {
   "cell_type": "code",
   "execution_count": 4,
   "id": "18033e82",
   "metadata": {
    "execution": {
     "iopub.execute_input": "2022-07-05T19:51:44.663561Z",
     "iopub.status.busy": "2022-07-05T19:51:44.663161Z",
     "iopub.status.idle": "2022-07-05T19:51:44.678584Z",
     "shell.execute_reply": "2022-07-05T19:51:44.677966Z"
    },
    "papermill": {
     "duration": 0.029089,
     "end_time": "2022-07-05T19:51:44.680647",
     "exception": false,
     "start_time": "2022-07-05T19:51:44.651558",
     "status": "completed"
    },
    "tags": []
   },
   "outputs": [
    {
     "name": "stdout",
     "output_type": "stream",
     "text": [
      "<class 'pandas.core.frame.DataFrame'>\n",
      "Index: 2332531 entries, 20170104_1301 to 20211203_9997\n",
      "Data columns (total 11 columns):\n",
      " #   Column            Dtype         \n",
      "---  ------            -----         \n",
      " 0   Date              datetime64[ns]\n",
      " 1   SecuritiesCode    int64         \n",
      " 2   Open              float64       \n",
      " 3   High              float64       \n",
      " 4   Low               float64       \n",
      " 5   Close             float64       \n",
      " 6   Volume            int64         \n",
      " 7   AdjustmentFactor  float64       \n",
      " 8   ExpectedDividend  float64       \n",
      " 9   SupervisionFlag   bool          \n",
      " 10  Target            float64       \n",
      "dtypes: bool(1), datetime64[ns](1), float64(7), int64(2)\n",
      "memory usage: 198.0+ MB\n"
     ]
    }
   ],
   "source": [
    "stock_prices.info()"
   ]
  },
  {
   "cell_type": "code",
   "execution_count": 5,
   "id": "ca1ad14c",
   "metadata": {
    "execution": {
     "iopub.execute_input": "2022-07-05T19:51:44.703584Z",
     "iopub.status.busy": "2022-07-05T19:51:44.703016Z",
     "iopub.status.idle": "2022-07-05T19:51:44.926073Z",
     "shell.execute_reply": "2022-07-05T19:51:44.924836Z"
    },
    "papermill": {
     "duration": 0.236691,
     "end_time": "2022-07-05T19:51:44.928003",
     "exception": false,
     "start_time": "2022-07-05T19:51:44.691312",
     "status": "completed"
    },
    "tags": []
   },
   "outputs": [
    {
     "name": "stdout",
     "output_type": "stream",
     "text": [
      "CPU times: user 184 ms, sys: 31.9 ms, total: 216 ms\n",
      "Wall time: 217 ms\n"
     ]
    }
   ],
   "source": [
    "%%time\n",
    "stock_prices.dropna(inplace=True, subset=['Open','High','Low','Close','Target'])"
   ]
  },
  {
   "cell_type": "code",
   "execution_count": 6,
   "id": "ec13eb26",
   "metadata": {
    "execution": {
     "iopub.execute_input": "2022-07-05T19:51:44.951085Z",
     "iopub.status.busy": "2022-07-05T19:51:44.950567Z",
     "iopub.status.idle": "2022-07-05T19:51:44.955678Z",
     "shell.execute_reply": "2022-07-05T19:51:44.955005Z"
    },
    "papermill": {
     "duration": 0.018765,
     "end_time": "2022-07-05T19:51:44.957540",
     "exception": false,
     "start_time": "2022-07-05T19:51:44.938775",
     "status": "completed"
    },
    "tags": []
   },
   "outputs": [],
   "source": [
    "#Это бесполезные операции, сначала генерирурю список дней и акций, а потом джойном удаляю строки, для которых нет данных в stock_prices\n",
    "#Просто потренировался, можно сразу брать индексы из stock_prices\n",
    "#date_range = pd.date_range(stock_prices.Date.min(), stock_prices.Date.max(), freq='D')\n",
    "#dates = np.array(date_range)\n",
    "#stocks = np.array(stock_list_incl.index)\n",
    "#multi_index = pd.MultiIndex.from_product([dates, stocks], names=['Date','SecuritiesCode'])\n",
    "#final_full = multi_index.to_frame(index = False)\n",
    "#final1 = final_full.merge(stock_prices.iloc[:,:], how='inner', on=['Date','SecuritiesCode'])\n",
    "#potenitial to make more efficient - adding the one-hot encoding of the days of the week\n",
    "#final1 = stock_prices\n",
    "#final1['AdjustmentFactor'] = stock_prices.sort_values(by='Date').groupby('SecuritiesCode')['AdjustmentFactor'].shift(1)\n",
    "#final1['AdjustmentFactor'] = final1.sort_values(by='Date').groupby('SecuritiesCode')['AdjustmentFactor'].bfill()\n",
    "#final1['DoW'] = [i.weekday() for i in final1['Date']]\n",
    "#one_hot = pd.get_dummies(final1['DoW'])\n",
    "#final1 = final1.drop('DoW',axis = 1)\n",
    "#final1 = final1.join(one_hot)\n",
    "#final1 = final1.rename(columns={0: 'Mo',1: 'Tu',2: 'We',3: 'Th',4: 'Fr'})\n",
    "#final1[(final1.SecuritiesCode == 2590) & (final1.Date < '2017-02-01')]\n",
    "#final1['day'] = final1['Date'].dt.dayofweek\n",
    "def day_of_week(df):\n",
    "    df['Day_of_week'] = df['Date'].dt.dayofweek\n",
    "    return df"
   ]
  },
  {
   "cell_type": "code",
   "execution_count": 7,
   "id": "07445f75",
   "metadata": {
    "execution": {
     "iopub.execute_input": "2022-07-05T19:51:44.981742Z",
     "iopub.status.busy": "2022-07-05T19:51:44.981086Z",
     "iopub.status.idle": "2022-07-05T19:51:44.991514Z",
     "shell.execute_reply": "2022-07-05T19:51:44.990790Z"
    },
    "papermill": {
     "duration": 0.024723,
     "end_time": "2022-07-05T19:51:44.993531",
     "exception": false,
     "start_time": "2022-07-05T19:51:44.968808",
     "status": "completed"
    },
    "tags": []
   },
   "outputs": [],
   "source": [
    "#Магия\n",
    "#e = stock_prices[stock_prices.AdjustmentFactor != 1].set_index('Date').groupby(\n",
    "#    ['SecuritiesCode'])['AdjustmentFactor'].expanding(1).apply(np.prod)\n",
    "#e.name = 'CumFactor'\n",
    "#final2 = stock_prices.merge(e, how='left', left_on=['SecuritiesCode','Date'], right_index=True)\n",
    "#final2['CumFactor'] = final2.sort_values(by='Date').groupby(['SecuritiesCode'])['CumFactor'].fillna(method='ffill')\n",
    "#final2['CumFactor'] = final2['CumFactor'].fillna(1)\n",
    "#final2['Open'] = final2['Open'] / final2['CumFactor']\n",
    "#final2['High'] = final2['High'] / final2['CumFactor']\n",
    "#final2['Low'] = final2['Low'] / final2['CumFactor']\n",
    "#final2['Close'] = final2['Close'] / final2['CumFactor']\n",
    "#final2['Volume'] = final2['Volume'] * final2['CumFactor']\n",
    "#final2['ExpectedDividend'] = (final2['ExpectedDividend'] / final2['CumFactor'])\n",
    "#final2['DividendRatio'] = final2['ExpectedDividend'] / final2['Close']\n",
    "#final2['DividendRatio'] = final2['DividendRatio'].fillna(0)\n",
    "#Вопрос: в чистом виде модель всегда будет советовать вставать в шорт перед экс-дивидендой датой, в реальной жизни это не имеет смысла\n",
    "#так как либо это запрещено, либо с шортящих вычтут сумму дивидендов, но формула оценки модели этого не учитывает\n",
    "#можно либо пользоваться этой дырой, либо из target вычитать DividendRatio, то есть если цена упадет больше чем на сумму дивидендов\n",
    "#то мы окажемся в плюсе\n",
    "#print(final2[(final2.SecuritiesCode==3421) & (final2.Date < '2017-02-01')])\n",
    "def cumulative_adj_factor(df):\n",
    "    e = df[df.AdjustmentFactor != 1].set_index('Date').groupby(\n",
    "    ['SecuritiesCode'])['AdjustmentFactor'].expanding(1).apply(np.prod)\n",
    "    e.name = 'CumFactor'\n",
    "    out_df = df.merge(e, how='left', left_on=['SecuritiesCode','Date'], right_index=True)\n",
    "    out_df['CumFactor'] = out_df['CumFactor'].fillna(1)\n",
    "    out_df['Open'] = out_df['Open'] / out_df['CumFactor']\n",
    "    out_df['High'] = out_df['High'] / out_df['CumFactor']\n",
    "    out_df['Low'] = out_df['Low'] / out_df['CumFactor']\n",
    "    out_df['Close'] = out_df['Close'] / out_df['CumFactor']\n",
    "    out_df['Volume'] = out_df['Volume'] * out_df['CumFactor']\n",
    "    out_df['ExpectedDividend'] = (out_df['ExpectedDividend'] / out_df['CumFactor'])\n",
    "    out_df['DividendRatio'] = out_df['ExpectedDividend'] / out_df['Close']\n",
    "    out_df['DividendRatio'] = out_df['DividendRatio'].fillna(0)\n",
    "    out_df = out_df.drop(['CumFactor', 'AdjustmentFactor'],axis=1)\n",
    "    \n",
    "    return out_df"
   ]
  },
  {
   "cell_type": "code",
   "execution_count": 8,
   "id": "c60f3567",
   "metadata": {
    "execution": {
     "iopub.execute_input": "2022-07-05T19:51:45.018243Z",
     "iopub.status.busy": "2022-07-05T19:51:45.017568Z",
     "iopub.status.idle": "2022-07-05T19:51:45.024641Z",
     "shell.execute_reply": "2022-07-05T19:51:45.023886Z"
    },
    "papermill": {
     "duration": 0.021823,
     "end_time": "2022-07-05T19:51:45.026894",
     "exception": false,
     "start_time": "2022-07-05T19:51:45.005071",
     "status": "completed"
    },
    "tags": []
   },
   "outputs": [],
   "source": [
    "#Скользящее среднее за 50 дней\n",
    "#sma50 = final2.set_index('Date').groupby(['SecuritiesCode'])['Close'].rolling(window=50,min_periods=1).mean()\n",
    "#sma50.name = 'SMA50'\n",
    "#final3 = final2.merge(sma50, how='left', left_on=['SecuritiesCode','Date'], right_index=True)\n",
    "#Скользящее среднее за 10 дней\n",
    "#sma10 = final3.set_index('Date').groupby(['SecuritiesCode'])['Close'].rolling(window=10,min_periods=1).mean()\n",
    "#sma10.name = 'SMA10'\n",
    "#final4 = final3.merge(sma10, how='left', left_on=['SecuritiesCode','Date'], right_index=True)\n",
    "#Относительная разница цен закрытия и скользящих средних\n",
    "#final4['SMA50_Close_diff'] = (final4.Close-final4.SMA50) / final4.Close\n",
    "#final4['SMA10_Close_diff'] = (final4.Close-final4.SMA10) / final4.Close\n",
    "#final4\n",
    "def moving_average(df, win):\n",
    "    sma = df.set_index('Date').groupby(['SecuritiesCode'])['Close'].rolling(window=win,min_periods=1).mean()\n",
    "    sma.name = 'Moving_average_' + str(win)\n",
    "    out_df = df.merge(sma, how='left', left_on=['SecuritiesCode','Date'], right_index=True)\n",
    "    out_df['Diff_Close_MA' + str(win)] = (out_df['Close']-out_df['Moving_average_' + str(win)]) / out_df['Close']\n",
    "    return out_df"
   ]
  },
  {
   "cell_type": "code",
   "execution_count": 9,
   "id": "9543924f",
   "metadata": {
    "execution": {
     "iopub.execute_input": "2022-07-05T19:51:45.050129Z",
     "iopub.status.busy": "2022-07-05T19:51:45.049760Z",
     "iopub.status.idle": "2022-07-05T19:51:45.058551Z",
     "shell.execute_reply": "2022-07-05T19:51:45.057190Z"
    },
    "papermill": {
     "duration": 0.023941,
     "end_time": "2022-07-05T19:51:45.061539",
     "exception": false,
     "start_time": "2022-07-05T19:51:45.037598",
     "status": "completed"
    },
    "tags": []
   },
   "outputs": [
    {
     "name": "stdout",
     "output_type": "stream",
     "text": [
      "CPU times: user 8 µs, sys: 0 ns, total: 8 µs\n",
      "Wall time: 12.6 µs\n"
     ]
    }
   ],
   "source": [
    "%%time\n",
    "#Доля объемов на акцию от общедневного объема торговли\n",
    "#final4['USDVol'] = final4['Volume'] * final4['Close']\n",
    "#temp1 = final4.groupby('Date').agg('sum')['USDVol']\n",
    "#final4 = final4.rename(columns={'USDVol': 'ind_volume'})\n",
    "#final5 = final4.merge(temp1, how='left', left_on='Date', right_index=True)\n",
    "#final5 = final5.rename(columns={'USDVol': 'tot_volume'})\n",
    "#final5['Volume_share'] = final5['ind_volume'] / final5['tot_volume']\n",
    "#final5\n",
    "def volume_share(df):\n",
    "    df['USDVol'] = df['Volume'] * df['Close']\n",
    "    temp1 = df.groupby('Date').agg('sum')['USDVol']\n",
    "    df = df.rename(columns={'USDVol': 'ind_volume'})\n",
    "    df = df.merge(temp1, how='left', left_on='Date', right_index=True)\n",
    "    df = df.rename(columns={'USDVol': 'tot_volume'})\n",
    "    df['Volume_share'] = df['ind_volume'] / df['tot_volume']\n",
    "    out_df = df.drop(['ind_volume', 'tot_volume'], axis=1)\n",
    "    return out_df"
   ]
  },
  {
   "cell_type": "code",
   "execution_count": 10,
   "id": "eb7b0790",
   "metadata": {
    "execution": {
     "iopub.execute_input": "2022-07-05T19:51:45.089795Z",
     "iopub.status.busy": "2022-07-05T19:51:45.089150Z",
     "iopub.status.idle": "2022-07-05T19:51:45.102546Z",
     "shell.execute_reply": "2022-07-05T19:51:45.101731Z"
    },
    "papermill": {
     "duration": 0.029075,
     "end_time": "2022-07-05T19:51:45.105144",
     "exception": false,
     "start_time": "2022-07-05T19:51:45.076069",
     "status": "completed"
    },
    "tags": []
   },
   "outputs": [
    {
     "name": "stdout",
     "output_type": "stream",
     "text": [
      "CPU times: user 7 µs, sys: 0 ns, total: 7 µs\n",
      "Wall time: 13.1 µs\n"
     ]
    }
   ],
   "source": [
    "%%time\n",
    "#Полосы Боллинджера:\n",
    "#средняя линия уже есть, это SMA10\n",
    "#верхняя линия: средняя линия + (10 * стандартное отклонение цен закрытия за 10 дней)\n",
    "#нижняя линия: средняя линия - (10 * стандартное отклонение цен закрытия за 10 дней)\n",
    "#sma10stdev = final5.set_index('Date').groupby(['SecuritiesCode'])['Close'].rolling(window=10,min_periods=1).std()\n",
    "#sma10stdev.name = 'SD10'\n",
    "#final6 = final5.merge(sma10stdev, how='left', left_on=['SecuritiesCode','Date'], right_index=True)\n",
    "##final6['Upper_line'] = final6['SMA10'] + final6['SD10']\n",
    "#final6['Lower_line'] = final6['SMA10'] - final6['SD10']\n",
    "#относительная разница между ценой закрытия и нижней/верхней линиями\n",
    "#final6['UL_Close-diff'] = (final6.Close-final6.Upper_line) / final6.Close\n",
    "#final6['LL_Close-diff'] = (final6.Close-final6.Lower_line) / final6.Close\n",
    "#final6\n",
    "def bollinger(df, win=20, coef=3):\n",
    "    sd_name = 'SD' + str(win)\n",
    "    ma_name = 'Moving_average_' + str(win)\n",
    "    stdev = df.set_index('Date').groupby(['SecuritiesCode'])['Close'].rolling(window=win,min_periods=1).std()\n",
    "    stdev.name = sd_name\n",
    "    df = df.merge(stdev, how='left', left_on=['SecuritiesCode','Date'], right_index=True)\n",
    "    sma = df.set_index('Date').groupby(['SecuritiesCode'])['Close'].rolling(window=win,min_periods=1).mean()\n",
    "    sma.name = ma_name\n",
    "    out_df = df.merge(sma, how='left', left_on=['SecuritiesCode','Date'], right_index=True)\n",
    "    out_df['Upper_line'] = out_df[ma_name] + coef*out_df[sd_name]\n",
    "    out_df['Lower_line'] = out_df[ma_name] - coef*out_df[sd_name]\n",
    "    out_df['Bollinger_Close-Upper'] = (out_df['Close']-out_df['Upper_line']) / out_df['Close']\n",
    "    out_df['Bollinger_Close-Lower'] = (out_df['Close']-out_df['Lower_line']) / out_df['Close']\n",
    "    out_df = out_df.drop(['Upper_line', 'Lower_line'], axis=1)\n",
    "    return out_df"
   ]
  },
  {
   "cell_type": "code",
   "execution_count": 11,
   "id": "d4770592",
   "metadata": {
    "execution": {
     "iopub.execute_input": "2022-07-05T19:51:45.133453Z",
     "iopub.status.busy": "2022-07-05T19:51:45.132794Z",
     "iopub.status.idle": "2022-07-05T19:51:45.139847Z",
     "shell.execute_reply": "2022-07-05T19:51:45.138713Z"
    },
    "papermill": {
     "duration": 0.022742,
     "end_time": "2022-07-05T19:51:45.142874",
     "exception": false,
     "start_time": "2022-07-05T19:51:45.120132",
     "status": "completed"
    },
    "tags": []
   },
   "outputs": [
    {
     "name": "stdout",
     "output_type": "stream",
     "text": [
      "CPU times: user 3 µs, sys: 0 ns, total: 3 µs\n",
      "Wall time: 7.39 µs\n"
     ]
    }
   ],
   "source": [
    "%%time\n",
    "#RSI - to be checked and added later if necessary\n",
    "#а) среднее значение последних 14 растущих дневных свечей\n",
    "#б) среднее значение последних 14 падающих дневных свечей\n",
    "#в) считаем RS: делим (а) на (б)\n",
    "#г) считаем RSI: 100-(100/(1+RS))\n",
    "\n",
    "#last14up = final6[final6[\"Close\"] > final6[\"Open\"]].set_index('Date').groupby(['SecuritiesCode'])['Close'].rolling(window=14, min_periods=1).mean()\n",
    "#last14up.name = 'SMA14UP'\n",
    "#final7 = final6.merge(last14up, how='left', left_on=['SecuritiesCode','Date'], right_index=True)\n",
    "#final7['SMA14UP'] = final7.sort_values(by='Date').groupby(['SecuritiesCode'])['SMA14UP'].fillna(method='ffill')\n",
    "##last14down = final7[final7[\"Close\"] < final7[\"Open\"]].set_index('Date').groupby(['SecuritiesCode'])['Close'].rolling(window=14, min_periods=1).mean()\n",
    "#last14down.name = 'SMA14DOWN'\n",
    "#final8 = final7.merge(last14down, how='left', left_on=['SecuritiesCode','Date'], right_index=True)\n",
    "#final8['SMA14DOWN'] = final8.sort_values(by='Date').groupby(['SecuritiesCode'])['SMA14DOWN'].fillna(method='ffill')\n",
    "#final8['RSI'] = (100-(100/(1+(final8.SMA14UP / final8.SMA14DOWN))))/100\n",
    "#final8\n",
    "#final8[final8.SecuritiesCode == 9993].tail(20)\n",
    "#last14up[9993].tail(20)\n"
   ]
  },
  {
   "cell_type": "code",
   "execution_count": 12,
   "id": "3e5be5b2",
   "metadata": {
    "execution": {
     "iopub.execute_input": "2022-07-05T19:51:45.170866Z",
     "iopub.status.busy": "2022-07-05T19:51:45.170432Z",
     "iopub.status.idle": "2022-07-05T19:51:45.178488Z",
     "shell.execute_reply": "2022-07-05T19:51:45.177483Z"
    },
    "papermill": {
     "duration": 0.022901,
     "end_time": "2022-07-05T19:51:45.181183",
     "exception": false,
     "start_time": "2022-07-05T19:51:45.158282",
     "status": "completed"
    },
    "tags": []
   },
   "outputs": [
    {
     "name": "stdout",
     "output_type": "stream",
     "text": [
      "CPU times: user 5 µs, sys: 0 ns, total: 5 µs\n",
      "Wall time: 9.06 µs\n"
     ]
    }
   ],
   "source": [
    "%%time\n",
    "#Стохастический\n",
    "#а) k = (цена закрытия - мин. цена дня)/(макс. цена дня - мин. цена дня)\n",
    "#б) d = усредненная k за 3 дн\n",
    "#теоретически возможно, что в знаменателе будет 0 три дня подряд и среднее не посчитается,\n",
    "#на практике за 5 лет это не произошло ни разу, поэтому обрабатывать такое исключение не буду\n",
    "#final8[\"k\"] = (final8[\"Close\"]-final8[\"Low\"])/((final8[\"High\"]-final8[\"Low\"]))\n",
    "#stohastic = final8.set_index('Date').groupby(['SecuritiesCode'])['k'].rolling(window=3, min_periods=1).mean()\n",
    "#stohastic.name = 'Stochastic'\n",
    "#final9 = final8.merge(stohastic, how='left', left_on=['SecuritiesCode','Date'], right_index=True)\n",
    "#final9.dropna(inplace=True, subset=['k'])\n",
    "def stohastic(df, win=3):\n",
    "    df[\"Weighted_Close-Low\"] = (df[\"Close\"]-df[\"Low\"])/((df[\"High\"]-df[\"Low\"]))\n",
    "    stohastic = df.set_index('Date').groupby(['SecuritiesCode'])['Weighted_Close-Low'].rolling(window=win, min_periods=1).mean()\n",
    "    stohastic.name = 'Stochastic'\n",
    "    out_df = df.merge(stohastic, how='left', left_on=['SecuritiesCode','Date'], right_index=True)\n",
    "    return out_df"
   ]
  },
  {
   "cell_type": "code",
   "execution_count": 13,
   "id": "161efbe8",
   "metadata": {
    "execution": {
     "iopub.execute_input": "2022-07-05T19:51:45.206407Z",
     "iopub.status.busy": "2022-07-05T19:51:45.205428Z",
     "iopub.status.idle": "2022-07-05T19:51:45.212874Z",
     "shell.execute_reply": "2022-07-05T19:51:45.211704Z"
    },
    "papermill": {
     "duration": 0.021383,
     "end_time": "2022-07-05T19:51:45.214776",
     "exception": false,
     "start_time": "2022-07-05T19:51:45.193393",
     "status": "completed"
    },
    "tags": []
   },
   "outputs": [
    {
     "name": "stdout",
     "output_type": "stream",
     "text": [
      "CPU times: user 3 µs, sys: 0 ns, total: 3 µs\n",
      "Wall time: 7.63 µs\n"
     ]
    }
   ],
   "source": [
    "%%time\n",
    "#Ебанина- too complicated, to be added later\n",
    "#Индикатор схождения-расхождения скользящих средних (MACD)\n",
    "# а) Экспоненциальная скользящая средняя за 12 дней: EMA = Close * 2/(n+1) + EMA(prev) * (1–2/(n+1))\n",
    "# б) Экспоненциальная скользящая средняя за 26 дней: EMA = Close * 2/(n+1) + EMA(prev) * (1–2/(n+1))\n",
    "# в) MACD = ЕМА_12 − EMA_26\n",
    "# г) Экспоненциальная скользящая средняя за 9 дней: EMA = MACD * 2/(n+1) + MACD(prev) * (1–2/(n+1))\n",
    "# е) разница между EMA9 и MACD\n",
    "\n",
    "#ema12 = final9.set_index('Date').groupby(['SecuritiesCode'])['Close'].ewm(span=12, adjust=False).mean()\n",
    "#ema12.name = 'EMA12'\n",
    "#ema26 = final9.set_index('Date').groupby(['SecuritiesCode'])['Close'].ewm(span=26, adjust=False).mean()\n",
    "#ema26.name = 'EMA26'\n",
    "#final10 = final9.merge(ema12, how='left', left_on=['SecuritiesCode','Date'], right_index=True)\n",
    "#final11 = final10.merge(ema26, how='left', left_on=['SecuritiesCode','Date'], right_index=True)\n",
    "#final11['MACD'] = final11['EMA12'] - final11['EMA26']\n",
    "#ema9 = final11.set_index('Date').groupby(['SecuritiesCode'])['MACD'].ewm(span=9, adjust=False).mean()\n",
    "#ema9.name = 'EMA9'\n",
    "#final12 = final11.merge(ema9, how='left', left_on=['SecuritiesCode','Date'], right_index=True)\n",
    "#final12['EMA_diff'] = (final12['EMA9'] - final12['MACD']) / final12['MACD']"
   ]
  },
  {
   "cell_type": "code",
   "execution_count": 14,
   "id": "95d705f1",
   "metadata": {
    "execution": {
     "iopub.execute_input": "2022-07-05T19:51:45.238853Z",
     "iopub.status.busy": "2022-07-05T19:51:45.238104Z",
     "iopub.status.idle": "2022-07-05T19:51:45.245405Z",
     "shell.execute_reply": "2022-07-05T19:51:45.244720Z"
    },
    "papermill": {
     "duration": 0.022015,
     "end_time": "2022-07-05T19:51:45.247935",
     "exception": false,
     "start_time": "2022-07-05T19:51:45.225920",
     "status": "completed"
    },
    "tags": []
   },
   "outputs": [
    {
     "name": "stdout",
     "output_type": "stream",
     "text": [
      "CPU times: user 6 µs, sys: 0 ns, total: 6 µs\n",
      "Wall time: 8.82 µs\n"
     ]
    }
   ],
   "source": [
    "%%time\n",
    "#final12['BeforeDiv'] = final12.sort_values(by='Date').groupby(\n",
    "#    ['SecuritiesCode'])['ExpectedDividend'].fillna(method='bfill', limit=10)\n",
    "#final12['BeforeDiv'] = ((final12['BeforeDiv'] > 0) & (final12['BeforeDiv'] != final12['ExpectedDividend'])).astype(int)\n",
    "#final12['AfterDiv'] = final12.sort_values(by='Date').groupby(\n",
    "#    ['SecuritiesCode'])['ExpectedDividend'].fillna(method='ffill', limit=10)\n",
    "#final12['AfterDiv'] = ((final12['AfterDiv'] > 0) & (final12['AfterDiv'] != final12['ExpectedDividend'])).astype(int)\n",
    "def before_after_div(df, lim=10):\n",
    "    df['BeforeDiv'] = df.sort_values(by='Date').groupby(\n",
    "        ['SecuritiesCode'])['ExpectedDividend'].fillna(method='bfill', limit=lim)\n",
    "    df['BeforeDiv'] = ((df['BeforeDiv'] > 0) & (df['BeforeDiv'] != df['ExpectedDividend'])).astype(int)\n",
    "    df['AfterDiv'] = df.sort_values(by='Date').groupby(\n",
    "        ['SecuritiesCode'])['ExpectedDividend'].fillna(method='ffill', limit=lim)\n",
    "    df['AfterDiv'] = ((df['AfterDiv'] > 0) & (df['AfterDiv'] != df['ExpectedDividend'])).astype(int)\n",
    "    return df"
   ]
  },
  {
   "cell_type": "markdown",
   "id": "81c365ff",
   "metadata": {
    "papermill": {
     "duration": 0.010737,
     "end_time": "2022-07-05T19:51:45.269672",
     "exception": false,
     "start_time": "2022-07-05T19:51:45.258935",
     "status": "completed"
    },
    "tags": []
   },
   "source": [
    "Addtional features"
   ]
  },
  {
   "cell_type": "code",
   "execution_count": 15,
   "id": "786d325b",
   "metadata": {
    "execution": {
     "iopub.execute_input": "2022-07-05T19:51:45.293784Z",
     "iopub.status.busy": "2022-07-05T19:51:45.293243Z",
     "iopub.status.idle": "2022-07-05T19:51:45.311517Z",
     "shell.execute_reply": "2022-07-05T19:51:45.310599Z"
    },
    "papermill": {
     "duration": 0.033858,
     "end_time": "2022-07-05T19:51:45.314572",
     "exception": false,
     "start_time": "2022-07-05T19:51:45.280714",
     "status": "completed"
    },
    "tags": []
   },
   "outputs": [
    {
     "name": "stdout",
     "output_type": "stream",
     "text": [
      "CPU times: user 5 µs, sys: 1e+03 ns, total: 6 µs\n",
      "Wall time: 11 µs\n"
     ]
    }
   ],
   "source": [
    "%%time\n",
    "#functions for the feature generation\n",
    "#rolling features\n",
    "def rolling_feature(df, window=50, op='mean'):\n",
    "#input: a stock_prices-like df, the window param for rolling and type of aggregation\n",
    "#output: df with a merged column of the needed rolling feature\n",
    "    if op == 'mean':\n",
    "        sma = df.set_index('Date').groupby(\n",
    "            ['SecuritiesCode'])['Close'].rolling(\n",
    "            window=window,min_periods=1).mean()\n",
    "        sma.name = 'Sliding_mean_' + str(window)\n",
    "        result = df.merge(sma, how='left', left_on=['SecuritiesCode','Date'], right_index=True)\n",
    "        return result\n",
    "    elif op == 'median':\n",
    "        sma = df.set_index('Date').groupby(\n",
    "            ['SecuritiesCode'])['Close'].rolling(\n",
    "            window=window,min_periods=1).apply(np.median, raw=True, engine='numba')\n",
    "        sma.name = 'Sliding_median_' + str(window)\n",
    "        result = df.merge(sma, how='left', left_on=['SecuritiesCode','Date'], right_index=True)\n",
    "        return result\n",
    "    else:\n",
    "        print('Invalid input')\n",
    "\n",
    "def day_number_generation(df):\n",
    "    if 'Day_number' not in df.columns:\n",
    "        prices_by_date = df.groupby(['Date']).agg({'SecuritiesCode' : 'count'}).reset_index()\n",
    "        prices_by_date['Day_number'] = prices_by_date.index\n",
    "        result = df.merge(prices_by_date[['Date', 'Day_number']], how='left', on='Date')\n",
    "        del(prices_by_date)\n",
    "        return result\n",
    "    elif df['Day_number'].isna().sum() != 0:\n",
    "        dropped = df.drop(['Day_number'], axis=1)\n",
    "        day_number_generation(dropped)\n",
    "    else:\n",
    "        return df\n",
    "    \n",
    "\n",
    "#lag generation\n",
    "def lags(df, lag=1, column='Close'):\n",
    "#input: stock-price-like df with the columns Date, SecuritiesCode and the column to lag\n",
    "#output: input df with the additional lagged column\n",
    "    if column + '_lag_' + str(lag) not in df.columns:\n",
    "        result = day_number_generation(df)\n",
    "\n",
    "        stock_prices_to_lag = result[['Day_number', 'SecuritiesCode', column]]\n",
    "        stock_prices_to_lag['Day_number'] += lag\n",
    "        stock_prices_to_lag.rename(columns={column : column + '_lag_' + str(lag)}, inplace=True)\n",
    "        result = result.merge(\n",
    "            stock_prices_to_lag[['Day_number', 'SecuritiesCode', column + '_lag_' + str(lag)]], \n",
    "            how='left', on=['Day_number', 'SecuritiesCode'])\n",
    "        del(stock_prices_to_lag)\n",
    "        return result\n",
    "    else:\n",
    "        return df\n",
    "\n",
    "\n",
    "#candles\n",
    "def candle(row):\n",
    "#function to use in .apply\n",
    "#row must contain 3 lags for open and close\n",
    "#source: https://www.investopedia.com/trading/candlestick-charting-what-is-it/\n",
    "    seq = ''\n",
    "    if row['Close_lag_3'] > row['Open_lag_3']:\n",
    "        seq += 'g'\n",
    "    elif row['Close_lag_3'] < row['Open_lag_3']:\n",
    "        seq += 'r'\n",
    "        \n",
    "    if row['Close_lag_2'] > row['Open_lag_2']:\n",
    "        seq += 'g'\n",
    "    elif row['Close_lag_2'] < row['Open_lag_2']:\n",
    "        seq += 'r'\n",
    "        \n",
    "    if row['Close_lag_1'] > row['Open_lag_1']:\n",
    "        if abs(row['Close_lag_1'] - row['Open_lag_1']) < abs(row['Close_lag_2'] - row['Open_lag_2']):\n",
    "            seq += 'g'\n",
    "        else: \n",
    "            seq += 'G'\n",
    "    elif row['Close_lag_1'] < row['Open_lag_1']:\n",
    "        if abs(row['Close_lag_1'] - row['Open_lag_1']) < abs(row['Close_lag_2'] - row['Open_lag_2']):\n",
    "            seq += 'r'\n",
    "        else:\n",
    "            seq += 'R'\n",
    "    \n",
    "    if row['Close'] > row['Open']:\n",
    "        if (row['Close_lag_1'] < row['Close'] < row['Open_lag_1'] and\n",
    "            row['Close_lag_1'] < row['Open'] < row['Open_lag_1']):\n",
    "            seq += 'g_e'\n",
    "        else:\n",
    "            seq += 'g'\n",
    "    else:\n",
    "        if (row['Open_lag_1'] < row['Close'] < row['Close_lag_1'] and\n",
    "            row['Open_lag_1'] < row['Open'] < row['Close_lag_1']):\n",
    "            seq += 'r_e'\n",
    "        else:\n",
    "            seq += 'r'\n",
    "            \n",
    "    #outcomes\n",
    "    if seq == 'ggGr_e':#Bearish Harami\n",
    "        return -1\n",
    "    elif seq == 'gggr': #Bearish Engulfing Pattern\n",
    "        return -1\n",
    "    elif seq == 'ggrr': #Bearish Evening Star\n",
    "        return -1\n",
    "    elif seq == 'rrrg': #Bullish Engulfing Pattern\n",
    "        return 1\n",
    "    elif seq == 'rrRg_e': #Bullish Harami\n",
    "        return 1\n",
    "    else:\n",
    "        return 0      "
   ]
  },
  {
   "cell_type": "code",
   "execution_count": 16,
   "id": "4b5b7c44",
   "metadata": {
    "execution": {
     "iopub.execute_input": "2022-07-05T19:51:45.339613Z",
     "iopub.status.busy": "2022-07-05T19:51:45.338867Z",
     "iopub.status.idle": "2022-07-05T19:51:45.345451Z",
     "shell.execute_reply": "2022-07-05T19:51:45.344472Z"
    },
    "papermill": {
     "duration": 0.022158,
     "end_time": "2022-07-05T19:51:45.348585",
     "exception": false,
     "start_time": "2022-07-05T19:51:45.326427",
     "status": "completed"
    },
    "tags": []
   },
   "outputs": [
    {
     "name": "stdout",
     "output_type": "stream",
     "text": [
      "CPU times: user 5 µs, sys: 0 ns, total: 5 µs\n",
      "Wall time: 8.82 µs\n"
     ]
    }
   ],
   "source": [
    "%%time\n",
    "#weighted difference between yesterday's close and today's open\n",
    "#final13 = lags(final12, lag = 1, column='Close')\n",
    "#final13['Gap'] = (final13['Open'] - final13['Close_lag_1']) / final13['Close_lag_1']\n",
    "def gap(df):\n",
    "    out_df = lags(df, lag = 1, column='Close')\n",
    "    out_df['Gap'] = (out_df['Open'] - out_df['Close_lag_1']) / out_df['Close_lag_1']\n",
    "    out_df = out_df.drop(['Close_lag_1'], axis=1)\n",
    "    return out_df"
   ]
  },
  {
   "cell_type": "code",
   "execution_count": 17,
   "id": "8330b039",
   "metadata": {
    "execution": {
     "iopub.execute_input": "2022-07-05T19:51:45.374261Z",
     "iopub.status.busy": "2022-07-05T19:51:45.373392Z",
     "iopub.status.idle": "2022-07-05T19:51:45.379123Z",
     "shell.execute_reply": "2022-07-05T19:51:45.378281Z"
    },
    "papermill": {
     "duration": 0.020416,
     "end_time": "2022-07-05T19:51:45.381394",
     "exception": false,
     "start_time": "2022-07-05T19:51:45.360978",
     "status": "completed"
    },
    "tags": []
   },
   "outputs": [
    {
     "name": "stdout",
     "output_type": "stream",
     "text": [
      "CPU times: user 3 µs, sys: 0 ns, total: 3 µs\n",
      "Wall time: 6.68 µs\n"
     ]
    }
   ],
   "source": [
    "%%time\n",
    "#candles - 5mins of runtime\n",
    "#final14 = final13\n",
    "#for i in range(1, 4):\n",
    "#    final14 = lags(final14, lag=i, column='Close')\n",
    "#    final14 = lags(final14, lag=i, column='Open')\n",
    "#final14['Candle'] = final14.apply(candle, axis=1)"
   ]
  },
  {
   "cell_type": "code",
   "execution_count": 18,
   "id": "b8ccb301",
   "metadata": {
    "execution": {
     "iopub.execute_input": "2022-07-05T19:51:45.405645Z",
     "iopub.status.busy": "2022-07-05T19:51:45.404930Z",
     "iopub.status.idle": "2022-07-05T19:51:45.410513Z",
     "shell.execute_reply": "2022-07-05T19:51:45.409591Z"
    },
    "papermill": {
     "duration": 0.019758,
     "end_time": "2022-07-05T19:51:45.412447",
     "exception": false,
     "start_time": "2022-07-05T19:51:45.392689",
     "status": "completed"
    },
    "scrolled": true,
    "tags": []
   },
   "outputs": [
    {
     "name": "stdout",
     "output_type": "stream",
     "text": [
      "CPU times: user 3 µs, sys: 1 µs, total: 4 µs\n",
      "Wall time: 6.91 µs\n"
     ]
    }
   ],
   "source": [
    "%%time\n",
    "#target lags\n",
    "#final15 = final13\n",
    "#for i in range(1, 10):\n",
    "#    final15 = lags(final15, lag=i, column='Target')"
   ]
  },
  {
   "cell_type": "code",
   "execution_count": 19,
   "id": "9a9b8390",
   "metadata": {
    "execution": {
     "iopub.execute_input": "2022-07-05T19:51:45.436738Z",
     "iopub.status.busy": "2022-07-05T19:51:45.436172Z",
     "iopub.status.idle": "2022-07-05T19:51:45.440401Z",
     "shell.execute_reply": "2022-07-05T19:51:45.439728Z"
    },
    "papermill": {
     "duration": 0.018527,
     "end_time": "2022-07-05T19:51:45.442330",
     "exception": false,
     "start_time": "2022-07-05T19:51:45.423803",
     "status": "completed"
    },
    "tags": []
   },
   "outputs": [],
   "source": [
    "#final16 = final15.drop(['Open','High','Low','Close','Volume',\n",
    "#                        'AdjustmentFactor','ExpectedDividend','SupervisionFlag','CumFactor',\n",
    "#                       'SMA50','SMA10','k','EMA12','EMA26','SMA14UP','SMA14DOWN','Lower_line','Upper_line',\n",
    "#                       'SD10','MACD','EMA9','tot_volume','ind_volume'], axis=1)\n",
    "#msno.matrix(final13)"
   ]
  },
  {
   "cell_type": "code",
   "execution_count": 20,
   "id": "1c5757de",
   "metadata": {
    "execution": {
     "iopub.execute_input": "2022-07-05T19:51:45.467431Z",
     "iopub.status.busy": "2022-07-05T19:51:45.466888Z",
     "iopub.status.idle": "2022-07-05T19:51:45.471875Z",
     "shell.execute_reply": "2022-07-05T19:51:45.471162Z"
    },
    "papermill": {
     "duration": 0.019807,
     "end_time": "2022-07-05T19:51:45.473786",
     "exception": false,
     "start_time": "2022-07-05T19:51:45.453979",
     "status": "completed"
    },
    "tags": []
   },
   "outputs": [],
   "source": [
    "def date_column(df):\n",
    "    df['Date_original'] = df['Date']\n",
    "    df['Date'] = pd.to_datetime(df['Date_original'])\n",
    "    return df"
   ]
  },
  {
   "cell_type": "code",
   "execution_count": 21,
   "id": "76659d2f",
   "metadata": {
    "execution": {
     "iopub.execute_input": "2022-07-05T19:51:45.498308Z",
     "iopub.status.busy": "2022-07-05T19:51:45.497759Z",
     "iopub.status.idle": "2022-07-05T19:51:45.504531Z",
     "shell.execute_reply": "2022-07-05T19:51:45.503905Z"
    },
    "papermill": {
     "duration": 0.021312,
     "end_time": "2022-07-05T19:51:45.506431",
     "exception": false,
     "start_time": "2022-07-05T19:51:45.485119",
     "status": "completed"
    },
    "tags": []
   },
   "outputs": [],
   "source": [
    "def generate_features(df):\n",
    "    #df = date_column(df)\n",
    "    df = day_of_week(df)\n",
    "    df = cumulative_adj_factor(df)\n",
    "    df = moving_average(df, 50)\n",
    "    df = moving_average(df, 10)\n",
    "    df = volume_share(df)\n",
    "    df = bollinger(df, 20, 3)\n",
    "    df = stohastic(df)\n",
    "    df = before_after_div(df)\n",
    "    df = gap(df)\n",
    "    out_df = df.copy()\n",
    "    for i in range(2, 10):\n",
    "        out_df = lags(out_df, lag=i, column='Target')\n",
    "    return out_df"
   ]
  },
  {
   "cell_type": "code",
   "execution_count": 22,
   "id": "634b178c",
   "metadata": {
    "execution": {
     "iopub.execute_input": "2022-07-05T19:51:45.530559Z",
     "iopub.status.busy": "2022-07-05T19:51:45.530216Z",
     "iopub.status.idle": "2022-07-05T19:51:45.536010Z",
     "shell.execute_reply": "2022-07-05T19:51:45.535025Z"
    },
    "papermill": {
     "duration": 0.019975,
     "end_time": "2022-07-05T19:51:45.537882",
     "exception": false,
     "start_time": "2022-07-05T19:51:45.517907",
     "status": "completed"
    },
    "tags": []
   },
   "outputs": [],
   "source": [
    "def build_lgb_model(params, X_train, X_val, y_train, y_val, cat_features):\n",
    "    lgb_train = lgb.Dataset(X_train, y_train)\n",
    "    lgb_val = lgb.Dataset(X_val, y_val)\n",
    "    model = lgb.train(params=params, train_set=lgb_train, valid_sets=(lgb_train, lgb_val), verbose_eval=50,\n",
    "                     categorical_feature=cat_features)\n",
    "    return model"
   ]
  },
  {
   "cell_type": "code",
   "execution_count": 23,
   "id": "8e2abb74",
   "metadata": {
    "execution": {
     "iopub.execute_input": "2022-07-05T19:51:45.562404Z",
     "iopub.status.busy": "2022-07-05T19:51:45.561818Z",
     "iopub.status.idle": "2022-07-05T19:51:45.567257Z",
     "shell.execute_reply": "2022-07-05T19:51:45.566679Z"
    },
    "papermill": {
     "duration": 0.019444,
     "end_time": "2022-07-05T19:51:45.568885",
     "exception": false,
     "start_time": "2022-07-05T19:51:45.549441",
     "status": "completed"
    },
    "tags": []
   },
   "outputs": [
    {
     "data": {
      "text/plain": [
       "3"
      ]
     },
     "execution_count": 23,
     "metadata": {},
     "output_type": "execute_result"
    }
   ],
   "source": [
    "#test\n",
    "#stock_prices.sample(5)\n",
    "#df3 = pd.DataFrame(\n",
    "#    {\n",
    "#        \"Date\": [\"2021-12-06\", \"2021-12-06\", \"2021-12-07\", \"2021-12-08\"],\n",
    "#        \"SecuritiesCode\": [\"4246\", \"4246\", \"4246\", \"4246\"],\n",
    "#        \"Open\": [1, 1, 1, 1],\n",
    "#        \"High\": [1, 1, 1, 1],\n",
    "3#        \"Low\": [1, 1, 1, 1],\n",
    "#        \"Close\": [6, 6, 7, 8], \n",
    "#        \"Target\": [6, 6, 7, 8]\n",
    "#    },\n",
    "#    index=[8, 9, 10, 11],\n",
    "#)\n",
    "#df3['Date'] = pd.to_datetime(df3['Date'])\n",
    "#test_data = pd.concat([stock_prices, df3])\n",
    "#test_data = lags(test_data, lag=-1, column='Close')\n",
    "#test_data = lags(test_data, lag=-2, column='Close')\n",
    "#def target_fill(row,date):#, date):\n",
    "#    if row['Date'].strftime('%Y-%m-%d') == date:\n",
    "#        return (row['Close_lag_-2'] - row['Close_lag_-1']) / row['Close_lag_-1']\n",
    "#    return row['Target']\n",
    "#test_data['Target'] = test_data.apply(target_fill, axis=1, date='2021-12-06')#, date=1)#'2021-12-06')\n",
    "#test_data"
   ]
  },
  {
   "cell_type": "code",
   "execution_count": 24,
   "id": "acc9a925",
   "metadata": {
    "execution": {
     "iopub.execute_input": "2022-07-05T19:51:45.593380Z",
     "iopub.status.busy": "2022-07-05T19:51:45.592701Z",
     "iopub.status.idle": "2022-07-05T19:51:45.600171Z",
     "shell.execute_reply": "2022-07-05T19:51:45.599444Z"
    },
    "papermill": {
     "duration": 0.021808,
     "end_time": "2022-07-05T19:51:45.601911",
     "exception": false,
     "start_time": "2022-07-05T19:51:45.580103",
     "status": "completed"
    },
    "tags": []
   },
   "outputs": [],
   "source": [
    "\n",
    "def target_fill(row,date):#, date):\n",
    "    if row['Date'].strftime('%Y-%m-%d') == date:\n",
    "        return (row['Close_lag_-2'] - row['Close_lag_-1']) / row['Close_lag_-1']\n",
    "    return row['Target']\n",
    "def target_generation(df, date):\n",
    "    #if row['Target'].isna():\n",
    "        \n",
    "    #calc_prep = df[df['Day_number'] >= date - 2]\n",
    "    calc_prep = lags(df, lag=-1, column='Close')\n",
    "    calc_prep = lags(calc_prep, lag=-2, column='Close')\n",
    "    calc_prep['Target'] = calc_prep.apply(target_fill, axis=1, date=date)\n",
    "    out_df = calc_prep.drop(['Close_lag_-1', 'Close_lag_-2'], axis=1)\n",
    "    return out_df\n",
    "    \n",
    "    \n",
    "    \n",
    "    #calc_prep['Day_number'] += 1\n",
    "    #target = df[df['Day_number'] == date - 2]\n",
    "    #if calc_prep['Day_number'].max() - calc_prep['Day_number'].min() == 2:\n",
    "    #    target_day = calc_prep['Day_number'].min()\n",
    "        "
   ]
  },
  {
   "cell_type": "code",
   "execution_count": 25,
   "id": "0a6aada4",
   "metadata": {
    "execution": {
     "iopub.execute_input": "2022-07-05T19:51:45.625852Z",
     "iopub.status.busy": "2022-07-05T19:51:45.625454Z",
     "iopub.status.idle": "2022-07-05T19:51:45.630065Z",
     "shell.execute_reply": "2022-07-05T19:51:45.629437Z"
    },
    "papermill": {
     "duration": 0.018548,
     "end_time": "2022-07-05T19:51:45.631682",
     "exception": false,
     "start_time": "2022-07-05T19:51:45.613134",
     "status": "completed"
    },
    "tags": []
   },
   "outputs": [],
   "source": [
    "params = {\n",
    "    'objective': 'rmse',\n",
    "    'metric': 'rmse',#,\n",
    "    #'num_leaves': 1023,\n",
    "    #'min_data_in_leaf':10,\n",
    "    #'feature_fraction':0.7,\n",
    "    'learning_rate': 0.1,\n",
    "    #'num_rounds': 1000,\n",
    "    #'early_stopping_rounds': 30,\n",
    "    #'seed': 1\n",
    "}\n",
    "#designating the categorical features which should be focused on\n",
    "cat_features = ['SecuritiesCode', 'BeforeDiv', 'AfterDiv', 'Day_of_week', 'SupervisionFlag']#,'SecuritiesCode']\n",
    "\n",
    "#lgb_model = build_lgb_model(params, X_train, X_val, y_train, y_val, cat_features)"
   ]
  },
  {
   "cell_type": "code",
   "execution_count": 26,
   "id": "e06dedb1",
   "metadata": {
    "execution": {
     "iopub.execute_input": "2022-07-05T19:51:45.655838Z",
     "iopub.status.busy": "2022-07-05T19:51:45.655206Z",
     "iopub.status.idle": "2022-07-05T19:52:29.944493Z",
     "shell.execute_reply": "2022-07-05T19:52:29.943505Z"
    },
    "papermill": {
     "duration": 44.31582,
     "end_time": "2022-07-05T19:52:29.958615",
     "exception": false,
     "start_time": "2022-07-05T19:51:45.642795",
     "status": "completed"
    },
    "tags": []
   },
   "outputs": [
    {
     "name": "stderr",
     "output_type": "stream",
     "text": [
      "/opt/conda/lib/python3.7/site-packages/ipykernel_launcher.py:45: SettingWithCopyWarning: \n",
      "A value is trying to be set on a copy of a slice from a DataFrame.\n",
      "Try using .loc[row_indexer,col_indexer] = value instead\n",
      "\n",
      "See the caveats in the documentation: https://pandas.pydata.org/pandas-docs/stable/user_guide/indexing.html#returning-a-view-versus-a-copy\n",
      "/opt/conda/lib/python3.7/site-packages/pandas/core/frame.py:5047: SettingWithCopyWarning: \n",
      "A value is trying to be set on a copy of a slice from a DataFrame\n",
      "\n",
      "See the caveats in the documentation: https://pandas.pydata.org/pandas-docs/stable/user_guide/indexing.html#returning-a-view-versus-a-copy\n",
      "  errors=errors,\n"
     ]
    },
    {
     "name": "stdout",
     "output_type": "stream",
     "text": [
      "<class 'pandas.core.frame.DataFrame'>\n",
      "Int64Index: 2324923 entries, 0 to 2324922\n",
      "Data columns (total 29 columns):\n",
      " #   Column                 Dtype         \n",
      "---  ------                 -----         \n",
      " 0   Date                   datetime64[ns]\n",
      " 1   SecuritiesCode         int64         \n",
      " 2   SupervisionFlag        bool          \n",
      " 3   Target                 float64       \n",
      " 4   Day_of_week            int64         \n",
      " 5   DividendRatio          float64       \n",
      " 6   Moving_average_50      float64       \n",
      " 7   Diff_Close_MA50        float64       \n",
      " 8   Moving_average_10      float64       \n",
      " 9   Diff_Close_MA10        float64       \n",
      " 10  Volume_share           float64       \n",
      " 11  SD20                   float64       \n",
      " 12  Moving_average_20      float64       \n",
      " 13  Bollinger_Close-Upper  float64       \n",
      " 14  Bollinger_Close-Lower  float64       \n",
      " 15  Weighted_Close-Low     float64       \n",
      " 16  Stochastic             float64       \n",
      " 17  BeforeDiv              int64         \n",
      " 18  AfterDiv               int64         \n",
      " 19  Day_number             int64         \n",
      " 20  Gap                    float64       \n",
      " 21  Target_lag_2           float64       \n",
      " 22  Target_lag_3           float64       \n",
      " 23  Target_lag_4           float64       \n",
      " 24  Target_lag_5           float64       \n",
      " 25  Target_lag_6           float64       \n",
      " 26  Target_lag_7           float64       \n",
      " 27  Target_lag_8           float64       \n",
      " 28  Target_lag_9           float64       \n",
      "dtypes: bool(1), datetime64[ns](1), float64(22), int64(5)\n",
      "memory usage: 516.6 MB\n"
     ]
    }
   ],
   "source": [
    "data = generate_features(stock_prices)\n",
    "data = data.drop(['Open', 'High', 'Low', 'Close', 'Volume', 'ExpectedDividend'], axis=1)\n",
    "data.info()"
   ]
  },
  {
   "cell_type": "code",
   "execution_count": 27,
   "id": "f39815d9",
   "metadata": {
    "execution": {
     "iopub.execute_input": "2022-07-05T19:52:29.984486Z",
     "iopub.status.busy": "2022-07-05T19:52:29.983769Z",
     "iopub.status.idle": "2022-07-05T19:52:29.988041Z",
     "shell.execute_reply": "2022-07-05T19:52:29.987420Z"
    },
    "papermill": {
     "duration": 0.019483,
     "end_time": "2022-07-05T19:52:29.989931",
     "exception": false,
     "start_time": "2022-07-05T19:52:29.970448",
     "status": "completed"
    },
    "tags": []
   },
   "outputs": [],
   "source": [
    "#test\n",
    "#data['Date'].astype('int64').astype('datetime64[ns]').astype('str').sample(5)"
   ]
  },
  {
   "cell_type": "code",
   "execution_count": 28,
   "id": "588cc6d5",
   "metadata": {
    "execution": {
     "iopub.execute_input": "2022-07-05T19:52:30.014742Z",
     "iopub.status.busy": "2022-07-05T19:52:30.013881Z",
     "iopub.status.idle": "2022-07-05T19:52:55.328027Z",
     "shell.execute_reply": "2022-07-05T19:52:55.327298Z"
    },
    "papermill": {
     "duration": 25.330871,
     "end_time": "2022-07-05T19:52:55.332329",
     "exception": false,
     "start_time": "2022-07-05T19:52:30.001458",
     "status": "completed"
    },
    "tags": []
   },
   "outputs": [
    {
     "name": "stderr",
     "output_type": "stream",
     "text": [
      "/opt/conda/lib/python3.7/site-packages/ipykernel_launcher.py:7: FutureWarning: casting datetime64[ns] values to int64 with .astype(...) is deprecated and will raise in a future version. Use .view(...) instead.\n",
      "  import sys\n",
      "/opt/conda/lib/python3.7/site-packages/ipykernel_launcher.py:14: FutureWarning: casting datetime64[ns] values to int64 with .astype(...) is deprecated and will raise in a future version. Use .view(...) instead.\n",
      "  \n",
      "/opt/conda/lib/python3.7/site-packages/lightgbm/basic.py:2068: UserWarning: categorical_feature in Dataset is overridden.\n",
      "New categorical_feature is ['AfterDiv', 'BeforeDiv', 'Day_of_week', 'SecuritiesCode', 'SupervisionFlag']\n",
      "  _log_warning('categorical_feature in Dataset is overridden.\\n'\n",
      "/opt/conda/lib/python3.7/site-packages/lightgbm/engine.py:239: UserWarning: 'verbose_eval' argument is deprecated and will be removed in a future release of LightGBM. Pass 'log_evaluation()' callback via 'callbacks' argument instead.\n",
      "  _log_warning(\"'verbose_eval' argument is deprecated and will be removed in a future release of LightGBM. \"\n"
     ]
    },
    {
     "name": "stdout",
     "output_type": "stream",
     "text": [
      "[LightGBM] [Warning] Auto-choosing col-wise multi-threading, the overhead of testing was 0.461378 seconds.\n",
      "You can set `force_col_wise=true` to remove the overhead.\n",
      "[LightGBM] [Info] Total Bins 7820\n",
      "[LightGBM] [Info] Number of data points in the train set: 2322928, number of used features: 28\n",
      "[LightGBM] [Info] Start training from score 0.000403\n"
     ]
    },
    {
     "name": "stderr",
     "output_type": "stream",
     "text": [
      "/opt/conda/lib/python3.7/site-packages/lightgbm/basic.py:1780: UserWarning: Overriding the parameters from Reference Dataset.\n",
      "  _log_warning('Overriding the parameters from Reference Dataset.')\n",
      "/opt/conda/lib/python3.7/site-packages/lightgbm/basic.py:1513: UserWarning: categorical_column in param dict is overridden.\n",
      "  _log_warning(f'{cat_alias} in param dict is overridden.')\n"
     ]
    },
    {
     "name": "stdout",
     "output_type": "stream",
     "text": [
      "[50]\ttraining's rmse: 0.0220924\tvalid_1's rmse: 0.0339051\n",
      "[100]\ttraining's rmse: 0.0216879\tvalid_1's rmse: 0.0344301\n"
     ]
    }
   ],
   "source": [
    "#train and validation split\n",
    "\n",
    "X_train = data[-data['Date'].isin(['2021-12-03', '2021-12-06', '2021-12-07'])]\n",
    "#X_train.fillna(0, inplace=True)\n",
    "y_train = X_train['Target']\n",
    "X_train = X_train.drop(['Target'], axis=1)\n",
    "X_train['Date'] = X_train['Date'].astype('int64')  #.astype('str').replace('-','')#.astype('int')\n",
    "\n",
    "X_val = data[data['Date'].isin(['2021-12-03'])]\n",
    "#X_test.fillna(0, inplace = True)\n",
    "#X_sub = X_test[['Date', 'SecuritiesCode']].reset_index()\n",
    "y_val = X_val['Target']\n",
    "X_val = X_val.drop(['Target'], axis=1)\n",
    "X_val['Date'] = X_val['Date'].astype('int64') #.replace('-','').astype('int')\n",
    "\n",
    "model = build_lgb_model(params, X_train, X_val, y_train, y_val, cat_features)"
   ]
  },
  {
   "cell_type": "code",
   "execution_count": 29,
   "id": "a9cb8b9a",
   "metadata": {
    "execution": {
     "iopub.execute_input": "2022-07-05T19:52:55.359934Z",
     "iopub.status.busy": "2022-07-05T19:52:55.359498Z",
     "iopub.status.idle": "2022-07-05T19:52:55.364480Z",
     "shell.execute_reply": "2022-07-05T19:52:55.363591Z"
    },
    "papermill": {
     "duration": 0.019751,
     "end_time": "2022-07-05T19:52:55.366368",
     "exception": false,
     "start_time": "2022-07-05T19:52:55.346617",
     "status": "completed"
    },
    "tags": []
   },
   "outputs": [],
   "source": [
    "env = jpx_tokyo_market_prediction.make_env()   # initialize the environment\n",
    "iter_test = env.iter_test()    # an iterator which loops over the test files"
   ]
  },
  {
   "cell_type": "code",
   "execution_count": 30,
   "id": "ecb73099",
   "metadata": {
    "execution": {
     "iopub.execute_input": "2022-07-05T19:52:55.391902Z",
     "iopub.status.busy": "2022-07-05T19:52:55.391470Z",
     "iopub.status.idle": "2022-07-05T19:57:13.980962Z",
     "shell.execute_reply": "2022-07-05T19:57:13.979900Z"
    },
    "papermill": {
     "duration": 258.605754,
     "end_time": "2022-07-05T19:57:13.983946",
     "exception": false,
     "start_time": "2022-07-05T19:52:55.378192",
     "status": "completed"
    },
    "tags": []
   },
   "outputs": [
    {
     "name": "stdout",
     "output_type": "stream",
     "text": [
      "This version of the API is not optimized and should not be used to estimate the runtime of your code on the hidden test set.\n"
     ]
    },
    {
     "name": "stderr",
     "output_type": "stream",
     "text": [
      "/opt/conda/lib/python3.7/site-packages/ipykernel_launcher.py:45: SettingWithCopyWarning: \n",
      "A value is trying to be set on a copy of a slice from a DataFrame.\n",
      "Try using .loc[row_indexer,col_indexer] = value instead\n",
      "\n",
      "See the caveats in the documentation: https://pandas.pydata.org/pandas-docs/stable/user_guide/indexing.html#returning-a-view-versus-a-copy\n",
      "/opt/conda/lib/python3.7/site-packages/ipykernel_launcher.py:16: FutureWarning: casting datetime64[ns] values to int64 with .astype(...) is deprecated and will raise in a future version. Use .view(...) instead.\n",
      "  \n",
      "/opt/conda/lib/python3.7/site-packages/ipykernel_launcher.py:19: SettingWithCopyWarning: \n",
      "A value is trying to be set on a copy of a slice from a DataFrame.\n",
      "Try using .loc[row_indexer,col_indexer] = value instead\n",
      "\n",
      "See the caveats in the documentation: https://pandas.pydata.org/pandas-docs/stable/user_guide/indexing.html#returning-a-view-versus-a-copy\n",
      "/opt/conda/lib/python3.7/site-packages/ipykernel_launcher.py:20: SettingWithCopyWarning: \n",
      "A value is trying to be set on a copy of a slice from a DataFrame.\n",
      "Try using .loc[row_indexer,col_indexer] = value instead\n",
      "\n",
      "See the caveats in the documentation: https://pandas.pydata.org/pandas-docs/stable/user_guide/indexing.html#returning-a-view-versus-a-copy\n",
      "/opt/conda/lib/python3.7/site-packages/ipykernel_launcher.py:21: SettingWithCopyWarning: \n",
      "A value is trying to be set on a copy of a slice from a DataFrame.\n",
      "Try using .loc[row_indexer,col_indexer] = value instead\n",
      "\n",
      "See the caveats in the documentation: https://pandas.pydata.org/pandas-docs/stable/user_guide/indexing.html#returning-a-view-versus-a-copy\n"
     ]
    }
   ],
   "source": [
    "date_check = []\n",
    "for (prices, options, financials, trades, secondary_prices, sample_prediction) in iter_test:\n",
    "    #sample_prediction_df =pd.read_csv('../input/jpx-tokyo-stock-exchange-prediction/example_test_files/sample_submission.csv')\n",
    "    #data = pd.concat([stock_prices, prices])\n",
    "    #date = prices['Date'].max()\n",
    "    #data_full = generate_features(data)\n",
    "    date = prices['Date'].max()\n",
    "    date_check.append(date)\n",
    "    prices['Date'] = pd.to_datetime(prices['Date'])\n",
    "    data_w_prices = pd.concat([stock_prices, prices])\n",
    "    data_w_prices = day_number_generation(data_w_prices)\n",
    "    data_w_prices = target_generation(data_w_prices, date)\n",
    "    data_full = generate_features(data_w_prices)\n",
    "    data_4_pred = data_full[data_full['Date'].astype(str) == date]\n",
    "    data_4_pred = data_4_pred.drop(['RowId','Open', 'High', 'Low', 'Close', 'Volume', 'ExpectedDividend', 'Target'], axis=1)\n",
    "    data_4_pred['Date'] = data_4_pred['Date'].astype('int64')\n",
    "    data_4_pred['Prediction'] = model.predict(data_4_pred)\n",
    "    submission = data_4_pred[['Date', 'SecuritiesCode', 'Prediction']]\n",
    "    submission['Rank'] = submission['Prediction'].rank() - 1\n",
    "    submission ['Rank'] = submission['Rank'].astype('int64')\n",
    "    submission['Date'] = submission['Date'].astype('datetime64[ns]').astype('str')\n",
    "    submission = submission.reset_index()\n",
    "    submission = submission.drop(['Prediction', 'index'], axis=1)\n",
    "    #print(pred.info(), pred.sample(5))\n",
    "    #sample_prediction_df['Rank'] = np.arange(len(sample_prediction))  # make your predictions here\n",
    "    \n",
    "    env.predict(submission)   # register your predictions"
   ]
  },
  {
   "cell_type": "code",
   "execution_count": 31,
   "id": "32a7cf93",
   "metadata": {
    "execution": {
     "iopub.execute_input": "2022-07-05T19:57:14.012123Z",
     "iopub.status.busy": "2022-07-05T19:57:14.011281Z",
     "iopub.status.idle": "2022-07-05T19:57:14.015171Z",
     "shell.execute_reply": "2022-07-05T19:57:14.014512Z"
    },
    "papermill": {
     "duration": 0.019799,
     "end_time": "2022-07-05T19:57:14.017068",
     "exception": false,
     "start_time": "2022-07-05T19:57:13.997269",
     "status": "completed"
    },
    "tags": []
   },
   "outputs": [],
   "source": [
    "#import os\n",
    "#dir_fd = os.open('somedir', os.O_RDONLY)\n",
    "#os.close(dir_fd)\n",
    "#os.open('./submission.csv', os.O_TRUNC).close()"
   ]
  },
  {
   "cell_type": "code",
   "execution_count": 32,
   "id": "ef3fc038",
   "metadata": {
    "execution": {
     "iopub.execute_input": "2022-07-05T19:57:14.045195Z",
     "iopub.status.busy": "2022-07-05T19:57:14.044668Z",
     "iopub.status.idle": "2022-07-05T19:57:14.056579Z",
     "shell.execute_reply": "2022-07-05T19:57:14.055593Z"
    },
    "papermill": {
     "duration": 0.02912,
     "end_time": "2022-07-05T19:57:14.059367",
     "exception": false,
     "start_time": "2022-07-05T19:57:14.030247",
     "status": "completed"
    },
    "tags": []
   },
   "outputs": [
    {
     "name": "stdout",
     "output_type": "stream",
     "text": [
      "<class 'pandas.core.frame.DataFrame'>\n",
      "RangeIndex: 2000 entries, 0 to 1999\n",
      "Data columns (total 3 columns):\n",
      " #   Column          Non-Null Count  Dtype \n",
      "---  ------          --------------  ----- \n",
      " 0   Date            2000 non-null   object\n",
      " 1   SecuritiesCode  2000 non-null   int64 \n",
      " 2   Rank            2000 non-null   int64 \n",
      "dtypes: int64(2), object(1)\n",
      "memory usage: 47.0+ KB\n"
     ]
    }
   ],
   "source": [
    "submission.info()"
   ]
  },
  {
   "cell_type": "code",
   "execution_count": null,
   "id": "a3d24d55",
   "metadata": {
    "papermill": {
     "duration": 0.012364,
     "end_time": "2022-07-05T19:57:14.084044",
     "exception": false,
     "start_time": "2022-07-05T19:57:14.071680",
     "status": "completed"
    },
    "tags": []
   },
   "outputs": [],
   "source": []
  }
 ],
 "metadata": {
  "kernelspec": {
   "display_name": "Python [conda env:JPX]",
   "language": "python",
   "name": "conda-env-JPX-py"
  },
  "language_info": {
   "codemirror_mode": {
    "name": "ipython",
    "version": 3
   },
   "file_extension": ".py",
   "mimetype": "text/x-python",
   "name": "python",
   "nbconvert_exporter": "python",
   "pygments_lexer": "ipython3",
   "version": "3.9.12"
  },
  "papermill": {
   "default_parameters": {},
   "duration": 350.23896,
   "end_time": "2022-07-05T19:57:15.123179",
   "environment_variables": {},
   "exception": null,
   "input_path": "__notebook__.ipynb",
   "output_path": "__notebook__.ipynb",
   "parameters": {},
   "start_time": "2022-07-05T19:51:24.884219",
   "version": "2.3.4"
  }
 },
 "nbformat": 4,
 "nbformat_minor": 5
}
