{
 "cells": [
  {
   "cell_type": "code",
   "execution_count": 1,
   "id": "c5f6ef55",
   "metadata": {},
   "outputs": [],
   "source": [
    "import pandas as pd\n",
    "import numpy as np\n",
    "from sklearn.linear_model import LinearRegression\n",
    "import seaborn as sns\n",
    "import lightgbm as lgb"
   ]
  },
  {
   "cell_type": "code",
   "execution_count": 2,
   "id": "bead5f80",
   "metadata": {},
   "outputs": [
    {
     "name": "stdout",
     "output_type": "stream",
     "text": [
      "Index(['Date', 'SecuritiesCode', 'Target', 'Mo', 'Tu', 'We', 'Th', 'Fr',\n",
      "       'DividendRatio', 'SMA50_Close_diff', 'SMA10_Close_diff', 'Volume_share',\n",
      "       'UL_Close-diff', 'LL_Close-diff', 'RSI', 'Stochastic', 'EMA_diff',\n",
      "       'BeforeDiv', 'AfterDiv', 'Day_number', 'Close_lag_1', 'Gap',\n",
      "       'Open_lag_1', 'Close_lag_2', 'Open_lag_2', 'Close_lag_3', 'Open_lag_3',\n",
      "       'Candle', 'Target_lag_2', 'Target_lag_3', 'Target_lag_4'],\n",
      "      dtype='object')\n"
     ]
    }
   ],
   "source": [
    "#vanilla data\n",
    "data_van = pd.read_parquet('./features_ready_220507.parquet.gzip')\n",
    "data_van = data_van.drop(['Open', 'High', 'Low', 'Close', 'Volume','AdjustmentFactor','ExpectedDividend','SupervisionFlag','CumFactor',\n",
    "                       'SMA50','SMA10','k','EMA12','EMA26','SMA14UP','SMA14DOWN','Lower_line','Upper_line',\n",
    "                       'SD10','MACD','EMA9','tot_volume','ind_volume'], axis=1)\n",
    "print(data_van.columns)"
   ]
  },
  {
   "cell_type": "code",
   "execution_count": 3,
   "id": "3c9f2bc2",
   "metadata": {},
   "outputs": [
    {
     "name": "stdout",
     "output_type": "stream",
     "text": [
      "Index(['Date', 'SecuritiesCode', 'Target', 'Mo', 'Tu', 'We', 'Th', 'Fr',\n",
      "       'DividendRatio', 'SMA50_Close_diff', 'SMA10_Close_diff', 'Volume_share',\n",
      "       'UL_Close-diff', 'LL_Close-diff', 'RSI', 'Stochastic', 'EMA_diff',\n",
      "       'BeforeDiv', 'AfterDiv', 'Day_number', 'Close_lag_1', 'Gap',\n",
      "       'Open_lag_1', 'Close_lag_2', 'Open_lag_2', 'Close_lag_3', 'Open_lag_3',\n",
      "       'Candle', 'Target_lag_2', 'Target_lag_3', 'Target_lag_4'],\n",
      "      dtype='object')\n"
     ]
    }
   ],
   "source": [
    "#logged data\n",
    "data_log = pd.read_parquet('./log_features_220526.parquet.gzip')\n",
    "data_log = data_log.drop(['Open', 'High', 'Low', 'Close', 'Volume','AdjustmentFactor','ExpectedDividend','SupervisionFlag','CumFactor',\n",
    "                       'SMA50','SMA10','k','EMA12','EMA26','SMA14UP','SMA14DOWN','Lower_line','Upper_line',\n",
    "                       'SD10','MACD','EMA9','tot_volume','ind_volume'], axis=1)\n",
    "print(data_log.columns)"
   ]
  },
  {
   "cell_type": "code",
   "execution_count": 4,
   "id": "4aec269e",
   "metadata": {},
   "outputs": [],
   "source": [
    "#normalized data\n",
    "def normalize(df):\n",
    "    norm = (df-df.min()) / (df.max()-df.min())\n",
    "    norm['Date'] = df['Date']\n",
    "    norm['SecuritiesCode'] = df['SecuritiesCode']\n",
    "    norm['Target'] = df['Target']\n",
    "    return norm\n",
    "data_n_van = normalize(data_van)\n",
    "data_n_log = normalize(data_log)"
   ]
  },
  {
   "cell_type": "code",
   "execution_count": 5,
   "id": "3e30a212",
   "metadata": {},
   "outputs": [],
   "source": [
    "#function for generating the train/test for linreg for dec 6 and 7th only\n",
    "def train_test_split(df):\n",
    "    X_train = df[-df['Date'].isin(['2021-12-06', '2021-12-07'])]\n",
    "    X_train = X_train.fillna(0)\n",
    "    y_train = X_train['Target']\n",
    "    X_train = X_train.drop(['Date', 'SecuritiesCode', 'Target'], axis=1)\n",
    "\n",
    "    X_test = df[df['Date'].isin(['2021-12-06'])]\n",
    "    X_test = X_test.fillna(0)\n",
    "    X_sub = X_test[['Date', 'SecuritiesCode']].reset_index()\n",
    "    X_test = X_test.drop(['Date', 'SecuritiesCode', 'Target'], axis=1)\n",
    "    \n",
    "    return X_train, y_train, X_test, X_sub"
   ]
  },
  {
   "cell_type": "code",
   "execution_count": 7,
   "id": "b43cb691",
   "metadata": {},
   "outputs": [],
   "source": [
    "Xtr_van, ytr_van, Xt_van, Xs_van = train_test_split(data_van)\n",
    "Xtr_log, ytr_log, Xt_log, Xs_log = train_test_split(data_log)\n",
    "Xtr_nlog, ytr_nlog, Xt_nlog, Xs_nlog = train_test_split(data_n_log)\n",
    "Xtr_nvan, ytr_nvan, Xt_nvan, Xs_nvan = train_test_split(data_n_van)"
   ]
  },
  {
   "cell_type": "code",
   "execution_count": 8,
   "id": "19f35dad",
   "metadata": {},
   "outputs": [],
   "source": [
    "test_df = pd.read_csv('../files/supplemental_files/stock_prices.csv', index_col=0, parse_dates=[1])"
   ]
  },
  {
   "cell_type": "code",
   "execution_count": 9,
   "id": "f1d07b86",
   "metadata": {},
   "outputs": [],
   "source": [
    "def top_calc(row):\n",
    "    pred_rank = row['Predicted_Rank']\n",
    "    if pred_rank < 200:\n",
    "        return (2- pred_rank / 200) * row['Predicted_Target'] / 1.5\n",
    "def bot_calc(row):\n",
    "    pred_rank = row['Predicted_Rank']\n",
    "    if pred_rank >=1800:\n",
    "        return (2- np.abs(pred_rank - 1999) / 200) * row['Predicted_Target'] / 1.5\n",
    "#calc function\n",
    "def calculate(X_train, y_train, X_test, X_sub, test_list):\n",
    "    reg = LinearRegression().fit(X_train, y_train)\n",
    "    reg_score = reg.score(X_train, y_train)\n",
    "    \n",
    "    y = pd.DataFrame(reg.predict(X_test), columns = ['Predicted_Target'])\n",
    "    \n",
    "    result = pd.concat([X_sub, y], axis=1)\n",
    "    result['Predicted_Rank'] = result['Predicted_Target'].rank()\n",
    "    \n",
    "    test_list = test_list[test_list['Date']=='2021-12-06'][['SecuritiesCode', 'Target']]\n",
    "    test_list['Real_Rank'] = test_list['Target'].rank()\n",
    "    test_list.rename(columns ={'Target':'True_value'}, inplace = True)\n",
    "    \n",
    "    score_calc = result.merge(test_list, how='left', on='SecuritiesCode')\n",
    "    \n",
    "    score_calc['Top_result'] = score_calc.apply(top_calc, axis=1)\n",
    "    score_calc['Bot_result'] = score_calc.apply(bot_calc, axis=1)\n",
    "\n",
    "    sharpe = score_calc['Top_result'].sum() - score_calc['Bot_result'].sum()\n",
    "    \n",
    "    return reg_score, sharpe\n",
    "    "
   ]
  },
  {
   "cell_type": "code",
   "execution_count": 10,
   "id": "f4910fbf",
   "metadata": {},
   "outputs": [
    {
     "name": "stdout",
     "output_type": "stream",
     "text": [
      "Vanilla:  0.005798878123100426 -0.4833767916782674\n",
      "Logged: 0.004155084343604454 -0.5118210463474194\n",
      "Noramilized Vanilla:  0.005722803946326072 -0.43185766537363324\n",
      "Normalized Logged:  0.004181906270685598 -0.4827561928378418\n"
     ]
    }
   ],
   "source": [
    "R_van, sharpe_van = calculate(Xtr_van, ytr_van, Xt_van, Xs_van, test_df)\n",
    "R_log, sharpe_log = calculate(Xtr_log, ytr_log, Xt_log, Xs_log, test_df)\n",
    "R_nvan, sharpe_nvan = calculate(Xtr_nvan, ytr_nvan, Xt_nvan, Xs_nvan, test_df)\n",
    "R_nlog, sharpe_nlog = calculate(Xtr_nlog, ytr_nlog, Xt_nlog, Xs_nlog, test_df)\n",
    "print('Vanilla: ', R_van, sharpe_van)\n",
    "print('Logged:', R_log, sharpe_log)\n",
    "print('Noramilized Vanilla: ', R_nvan, sharpe_nvan)\n",
    "print('Normalized Logged: ', R_nlog, sharpe_nlog )"
   ]
  },
  {
   "cell_type": "code",
   "execution_count": 22,
   "id": "9fa9d161",
   "metadata": {},
   "outputs": [],
   "source": [
    "#train-validation test split\n",
    "X_train = data_van[-data_van['Date'].isin(['2021-12-03', '2021-12-06', '2021-12-07'])]\n",
    "#X_train.fillna(0, inplace=True)\n",
    "y_train = X_train['Target']\n",
    "X_train = X_train.drop(['Target'], axis=1)\n",
    "X_train['Date'] = X_train['Date'].astype('int64')  #.astype('str').replace('-','')#.astype('int')\n",
    "\n",
    "X_val = data_van[data_van['Date'].isin(['2021-12-03'])]\n",
    "#X_test.fillna(0, inplace = True)\n",
    "#X_sub = X_test[['Date', 'SecuritiesCode']].reset_index()\n",
    "y_val = X_val['Target']\n",
    "X_val = X_val.drop(['Target'], axis=1)\n",
    "X_val['Date'] = X_val['Date'].astype('int64') #.replace('-','').astype('int')\n",
    "\n",
    "X_test = data_van[data_van['Date'].isin(['2021-12-06'])]\n",
    "#X_test.fillna(0, inplace = True)\n",
    "X_sub = X_test[['Date', 'SecuritiesCode']].reset_index()\n",
    "X_test = X_test.drop(['Target'], axis=1)\n",
    "X_test['Date'] = X_test['Date'].astype('int64')"
   ]
  },
  {
   "cell_type": "code",
   "execution_count": 23,
   "id": "454b03a5",
   "metadata": {},
   "outputs": [],
   "source": [
    "#training\n",
    "def build_lgb_model(params, X_train, X_val, y_train, y_val, cat_features):\n",
    "    lgb_train = lgb.Dataset(X_train, y_train)\n",
    "    lgb_val = lgb.Dataset(X_val, y_val)\n",
    "    model = lgb.train(params=params, train_set=lgb_train, valid_sets=(lgb_train, lgb_val), verbose_eval=50,\n",
    "                     categorical_feature=cat_features)\n",
    "    return model"
   ]
  },
  {
   "cell_type": "code",
   "execution_count": 24,
   "id": "e171a0bd",
   "metadata": {
    "scrolled": false
   },
   "outputs": [
    {
     "name": "stderr",
     "output_type": "stream",
     "text": [
      "/Users/bearmac/opt/anaconda3/envs/JPX/lib/python3.9/site-packages/lightgbm/basic.py:1705: UserWarning: categorical_feature in Dataset is overridden.\n",
      "New categorical_feature is ['SecuritiesCode']\n",
      "  _log_warning('categorical_feature in Dataset is overridden.\\n'\n"
     ]
    },
    {
     "name": "stdout",
     "output_type": "stream",
     "text": [
      "[LightGBM] [Warning] Auto-choosing row-wise multi-threading, the overhead of testing was 0.044775 seconds.\n",
      "You can set `force_row_wise=true` to remove the overhead.\n",
      "And if memory is not enough, you can set `force_col_wise=true`.\n",
      "[LightGBM] [Info] Total Bins 7310\n",
      "[LightGBM] [Info] Number of data points in the train set: 2330531, number of used features: 28\n",
      "[LightGBM] [Info] Start training from score 0.000422\n"
     ]
    },
    {
     "name": "stderr",
     "output_type": "stream",
     "text": [
      "/Users/bearmac/opt/anaconda3/envs/JPX/lib/python3.9/site-packages/lightgbm/basic.py:1433: UserWarning: Overriding the parameters from Reference Dataset.\n",
      "  _log_warning('Overriding the parameters from Reference Dataset.')\n",
      "/Users/bearmac/opt/anaconda3/envs/JPX/lib/python3.9/site-packages/lightgbm/basic.py:1245: UserWarning: categorical_column in param dict is overridden.\n",
      "  _log_warning('{} in param dict is overridden.'.format(cat_alias))\n"
     ]
    },
    {
     "name": "stdout",
     "output_type": "stream",
     "text": [
      "[50]\ttraining's rmse: 0.0219109\tvalid_1's rmse: 0.0318206\n",
      "[100]\ttraining's rmse: 0.021525\tvalid_1's rmse: 0.0313573\n"
     ]
    }
   ],
   "source": [
    "params = {\n",
    "    'objective': 'rmse',\n",
    "    'metric': 'rmse'#,\n",
    "    #'num_leaves': 1023,\n",
    "    #'min_data_in_leaf':10,\n",
    "    #'feature_fraction':0.7,\n",
    "    #'learning_rate': 0.01,\n",
    "    #'num_rounds': 1000,\n",
    "    #'early_stopping_rounds': 30,\n",
    "    #'seed': 1\n",
    "}\n",
    "#designating the categorical features which should be focused on\n",
    "cat_features = ['SecuritiesCode']#,'SecuritiesCode']\n",
    "\n",
    "lgb_model = build_lgb_model(params, X_train, X_val, y_train, y_val, cat_features)"
   ]
  },
  {
   "cell_type": "code",
   "execution_count": 26,
   "id": "cd7269ec",
   "metadata": {},
   "outputs": [
    {
     "name": "stdout",
     "output_type": "stream",
     "text": [
      "-1.3918581193859425\n"
     ]
    }
   ],
   "source": [
    "y_tree = pd.DataFrame(lgb_model.predict(X_test), columns = ['Predicted_Target'])\n",
    "result_tree = pd.concat([X_sub, y_tree], axis=1)\n",
    "result_tree['Predicted_Rank'] = result_tree['Predicted_Target'].rank()\n",
    "    \n",
    "test_list_tree = test_df[test_df['Date']=='2021-12-06'][['SecuritiesCode', 'Target']]\n",
    "test_list_tree['Real_Rank'] = test_list_tree['Target'].rank()\n",
    "test_list_tree.rename(columns ={'Target':'True_value'}, inplace = True)\n",
    "    \n",
    "score_calc_tree = result_tree.merge(test_list_tree, how='left', on='SecuritiesCode')\n",
    "    \n",
    "score_calc_tree['Top_result'] = score_calc_tree.apply(top_calc, axis=1)\n",
    "score_calc_tree['Bot_result'] = score_calc_tree.apply(bot_calc, axis=1)\n",
    "\n",
    "sharpe_tree = score_calc_tree['Top_result'].sum() - score_calc_tree['Bot_result'].sum()\n",
    "\n",
    "print(sharpe_tree)"
   ]
  },
  {
   "cell_type": "code",
   "execution_count": null,
   "id": "2bfc068c",
   "metadata": {},
   "outputs": [],
   "source": []
  }
 ],
 "metadata": {
  "kernelspec": {
   "display_name": "Python [conda env:JPX]",
   "language": "python",
   "name": "conda-env-JPX-py"
  },
  "language_info": {
   "codemirror_mode": {
    "name": "ipython",
    "version": 3
   },
   "file_extension": ".py",
   "mimetype": "text/x-python",
   "name": "python",
   "nbconvert_exporter": "python",
   "pygments_lexer": "ipython3",
   "version": "3.9.12"
  }
 },
 "nbformat": 4,
 "nbformat_minor": 5
}
